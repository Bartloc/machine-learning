{
 "cells": [
  {
   "cell_type": "code",
   "execution_count": 26,
   "metadata": {},
   "outputs": [
    {
     "data": {
      "text/html": [
       "<div>\n",
       "<style scoped>\n",
       "    .dataframe tbody tr th:only-of-type {\n",
       "        vertical-align: middle;\n",
       "    }\n",
       "\n",
       "    .dataframe tbody tr th {\n",
       "        vertical-align: top;\n",
       "    }\n",
       "\n",
       "    .dataframe thead th {\n",
       "        text-align: right;\n",
       "    }\n",
       "</style>\n",
       "<table border=\"1\" class=\"dataframe\">\n",
       "  <thead>\n",
       "    <tr style=\"text-align: right;\">\n",
       "      <th></th>\n",
       "      <th>Date</th>\n",
       "      <th>Price</th>\n",
       "      <th>D</th>\n",
       "    </tr>\n",
       "  </thead>\n",
       "  <tbody>\n",
       "    <tr>\n",
       "      <th>1537</th>\n",
       "      <td>2013-12-31</td>\n",
       "      <td>110.80</td>\n",
       "      <td>1.0</td>\n",
       "    </tr>\n",
       "    <tr>\n",
       "      <th>1538</th>\n",
       "      <td>2013-12-30</td>\n",
       "      <td>111.21</td>\n",
       "      <td>0.0</td>\n",
       "    </tr>\n",
       "    <tr>\n",
       "      <th>1539</th>\n",
       "      <td>2013-12-27</td>\n",
       "      <td>112.18</td>\n",
       "      <td>4.0</td>\n",
       "    </tr>\n",
       "    <tr>\n",
       "      <th>1540</th>\n",
       "      <td>2013-12-26</td>\n",
       "      <td>111.98</td>\n",
       "      <td>3.0</td>\n",
       "    </tr>\n",
       "    <tr>\n",
       "      <th>1541</th>\n",
       "      <td>2013-12-24</td>\n",
       "      <td>111.90</td>\n",
       "      <td>1.0</td>\n",
       "    </tr>\n",
       "  </tbody>\n",
       "</table>\n",
       "</div>"
      ],
      "text/plain": [
       "           Date   Price    D\n",
       "1537 2013-12-31  110.80  1.0\n",
       "1538 2013-12-30  111.21  0.0\n",
       "1539 2013-12-27  112.18  4.0\n",
       "1540 2013-12-26  111.98  3.0\n",
       "1541 2013-12-24  111.90  1.0"
      ]
     },
     "execution_count": 26,
     "metadata": {},
     "output_type": "execute_result"
    }
   ],
   "source": [
    "import pandas as pd\n",
    "from joblib import dump,load\n",
    "\n",
    "names = ['Date', 'Price']\n",
    "names_2 = ['Date', 'Title', 'Body']\n",
    "\n",
    "# Read dataset for stocks\n",
    "df = pd.read_csv('stock.csv', names=names) \n",
    "#Check dayWeek\n",
    "df['Date']=pd.to_datetime(df['Date'])\n",
    "df['D']=df['Date'].dt.dayofweek\n",
    "df.iloc[:,2:]=df.iloc[:,2:].astype(float)\n",
    "df.head()"
   ]
  },
  {
   "cell_type": "code",
   "execution_count": 27,
   "metadata": {},
   "outputs": [
    {
     "data": {
      "text/html": [
       "<div>\n",
       "<style scoped>\n",
       "    .dataframe tbody tr th:only-of-type {\n",
       "        vertical-align: middle;\n",
       "    }\n",
       "\n",
       "    .dataframe tbody tr th {\n",
       "        vertical-align: top;\n",
       "    }\n",
       "\n",
       "    .dataframe thead th {\n",
       "        text-align: right;\n",
       "    }\n",
       "</style>\n",
       "<table border=\"1\" class=\"dataframe\">\n",
       "  <thead>\n",
       "    <tr style=\"text-align: right;\">\n",
       "      <th></th>\n",
       "      <th>Date</th>\n",
       "      <th>Title</th>\n",
       "      <th>Body</th>\n",
       "      <th>Summary</th>\n",
       "    </tr>\n",
       "  </thead>\n",
       "  <tbody>\n",
       "    <tr>\n",
       "      <th>0</th>\n",
       "      <td>2012-04-23</td>\n",
       "      <td>Crude reverses losses stemming from European g...</td>\n",
       "      <td>Crude oil futures were flat to higher in Asia...</td>\n",
       "      <td>0</td>\n",
       "    </tr>\n",
       "    <tr>\n",
       "      <th>1</th>\n",
       "      <td>2012-04-24</td>\n",
       "      <td>Crude rises despite sluggish U.S. housing data...</td>\n",
       "      <td>Crude oil futures rose in Asian trading on We...</td>\n",
       "      <td>0</td>\n",
       "    </tr>\n",
       "    <tr>\n",
       "      <th>2</th>\n",
       "      <td>2012-04-25</td>\n",
       "      <td>Crude steady on U.S. Fed growth prospects Oil ...</td>\n",
       "      <td>Crude oil futures erased gains in Asian tradi...</td>\n",
       "      <td>0</td>\n",
       "    </tr>\n",
       "    <tr>\n",
       "      <th>3</th>\n",
       "      <td>2012-04-26</td>\n",
       "      <td>Oil rallies on U.S. pending home sales, fallin...</td>\n",
       "      <td>Crude oil futures rallied higher Thursday as ...</td>\n",
       "      <td>0</td>\n",
       "    </tr>\n",
       "    <tr>\n",
       "      <th>4</th>\n",
       "      <td>2012-04-27</td>\n",
       "      <td>Crude up in choppy trading on U.S. GDP data Cr...</td>\n",
       "      <td>Crude oil futures rose in U.S. trading on Fri...</td>\n",
       "      <td>0</td>\n",
       "    </tr>\n",
       "  </tbody>\n",
       "</table>\n",
       "</div>"
      ],
      "text/plain": [
       "        Date                                              Title  \\\n",
       "0 2012-04-23  Crude reverses losses stemming from European g...   \n",
       "1 2012-04-24  Crude rises despite sluggish U.S. housing data...   \n",
       "2 2012-04-25  Crude steady on U.S. Fed growth prospects Oil ...   \n",
       "3 2012-04-26  Oil rallies on U.S. pending home sales, fallin...   \n",
       "4 2012-04-27  Crude up in choppy trading on U.S. GDP data Cr...   \n",
       "\n",
       "                                                Body  Summary  \n",
       "0   Crude oil futures were flat to higher in Asia...        0  \n",
       "1   Crude oil futures rose in Asian trading on We...        0  \n",
       "2   Crude oil futures erased gains in Asian tradi...        0  \n",
       "3   Crude oil futures rallied higher Thursday as ...        0  \n",
       "4   Crude oil futures rose in U.S. trading on Fri...        0  "
      ]
     },
     "execution_count": 27,
     "metadata": {},
     "output_type": "execute_result"
    }
   ],
   "source": [
    "# Read dataset articles\n",
    "df_2 = pd.read_csv('news.csv',delimiter=',',names=names_2)\n",
    "\n",
    "\n",
    "df_2['Date']=pd.to_datetime(df_2['Date'], errors='coerce')\n",
    "df_2=df_2.dropna()\n",
    "df_2=df_2.groupby(['Date'],as_index=False).agg(lambda col: ' '.join(col))\n",
    "df_2['Summary']=0\n",
    "df_2.head()"
   ]
  },
  {
   "cell_type": "code",
   "execution_count": 28,
   "metadata": {
    "scrolled": true
   },
   "outputs": [
    {
     "data": {
      "text/html": [
       "<div>\n",
       "<style scoped>\n",
       "    .dataframe tbody tr th:only-of-type {\n",
       "        vertical-align: middle;\n",
       "    }\n",
       "\n",
       "    .dataframe tbody tr th {\n",
       "        vertical-align: top;\n",
       "    }\n",
       "\n",
       "    .dataframe thead th {\n",
       "        text-align: right;\n",
       "    }\n",
       "</style>\n",
       "<table border=\"1\" class=\"dataframe\">\n",
       "  <thead>\n",
       "    <tr style=\"text-align: right;\">\n",
       "      <th></th>\n",
       "      <th>Date</th>\n",
       "      <th>Price</th>\n",
       "      <th>D</th>\n",
       "      <th>%_p1</th>\n",
       "      <th>%_p2</th>\n",
       "      <th>%_p3</th>\n",
       "      <th>%_p4</th>\n",
       "      <th>%_p5</th>\n",
       "    </tr>\n",
       "  </thead>\n",
       "  <tbody>\n",
       "    <tr>\n",
       "      <th>1537</th>\n",
       "      <td>2013-12-31</td>\n",
       "      <td>110.80</td>\n",
       "      <td>1.0</td>\n",
       "      <td>NaN</td>\n",
       "      <td>NaN</td>\n",
       "      <td>NaN</td>\n",
       "      <td>NaN</td>\n",
       "      <td>NaN</td>\n",
       "    </tr>\n",
       "    <tr>\n",
       "      <th>1538</th>\n",
       "      <td>2013-12-30</td>\n",
       "      <td>111.21</td>\n",
       "      <td>0.0</td>\n",
       "      <td>0.368672</td>\n",
       "      <td>NaN</td>\n",
       "      <td>NaN</td>\n",
       "      <td>NaN</td>\n",
       "      <td>NaN</td>\n",
       "    </tr>\n",
       "    <tr>\n",
       "      <th>1539</th>\n",
       "      <td>2013-12-27</td>\n",
       "      <td>112.18</td>\n",
       "      <td>4.0</td>\n",
       "      <td>0.864682</td>\n",
       "      <td>1.230166</td>\n",
       "      <td>NaN</td>\n",
       "      <td>NaN</td>\n",
       "      <td>NaN</td>\n",
       "    </tr>\n",
       "    <tr>\n",
       "      <th>1540</th>\n",
       "      <td>2013-12-26</td>\n",
       "      <td>111.98</td>\n",
       "      <td>3.0</td>\n",
       "      <td>-0.178603</td>\n",
       "      <td>0.687623</td>\n",
       "      <td>1.053760</td>\n",
       "      <td>NaN</td>\n",
       "      <td>NaN</td>\n",
       "    </tr>\n",
       "    <tr>\n",
       "      <th>1541</th>\n",
       "      <td>2013-12-24</td>\n",
       "      <td>111.90</td>\n",
       "      <td>1.0</td>\n",
       "      <td>-0.071492</td>\n",
       "      <td>-0.250223</td>\n",
       "      <td>0.616622</td>\n",
       "      <td>0.983021</td>\n",
       "      <td>NaN</td>\n",
       "    </tr>\n",
       "  </tbody>\n",
       "</table>\n",
       "</div>"
      ],
      "text/plain": [
       "           Date   Price    D      %_p1      %_p2      %_p3      %_p4  %_p5\n",
       "1537 2013-12-31  110.80  1.0       NaN       NaN       NaN       NaN   NaN\n",
       "1538 2013-12-30  111.21  0.0  0.368672       NaN       NaN       NaN   NaN\n",
       "1539 2013-12-27  112.18  4.0  0.864682  1.230166       NaN       NaN   NaN\n",
       "1540 2013-12-26  111.98  3.0 -0.178603  0.687623  1.053760       NaN   NaN\n",
       "1541 2013-12-24  111.90  1.0 -0.071492 -0.250223  0.616622  0.983021   NaN"
      ]
     },
     "execution_count": 28,
     "metadata": {},
     "output_type": "execute_result"
    }
   ],
   "source": [
    "#count prices\n",
    "for y in range(1,6):\n",
    "    df['%_p'+str(y)]=100*(1-df['Price'].shift(y)/df['Price'])\n",
    "df.head(5)"
   ]
  },
  {
   "cell_type": "code",
   "execution_count": 29,
   "metadata": {},
   "outputs": [],
   "source": [
    "import numpy as np\n",
    "df['Max']=df[[\"%_p1\", \"%_p2\",\"%_p3\",\"%_p4\",\"%_p5\"]].max(axis=1)\n",
    "df['Min']=df[[\"%_p1\", \"%_p2\",\"%_p3\",\"%_p4\",\"%_p5\"]].min(axis=1)\n",
    "df=df.replace([np.inf, -np.inf], np.nan)\n",
    "df=df.dropna()"
   ]
  },
  {
   "cell_type": "code",
   "execution_count": 30,
   "metadata": {
    "scrolled": true
   },
   "outputs": [
    {
     "data": {
      "text/html": [
       "<div>\n",
       "<style scoped>\n",
       "    .dataframe tbody tr th:only-of-type {\n",
       "        vertical-align: middle;\n",
       "    }\n",
       "\n",
       "    .dataframe tbody tr th {\n",
       "        vertical-align: top;\n",
       "    }\n",
       "\n",
       "    .dataframe thead th {\n",
       "        text-align: right;\n",
       "    }\n",
       "</style>\n",
       "<table border=\"1\" class=\"dataframe\">\n",
       "  <thead>\n",
       "    <tr style=\"text-align: right;\">\n",
       "      <th></th>\n",
       "      <th>Date</th>\n",
       "      <th>Price</th>\n",
       "      <th>D</th>\n",
       "      <th>%_p1</th>\n",
       "      <th>%_p2</th>\n",
       "      <th>%_p3</th>\n",
       "      <th>%_p4</th>\n",
       "      <th>%_p5</th>\n",
       "      <th>Max</th>\n",
       "      <th>Min</th>\n",
       "      <th>y</th>\n",
       "    </tr>\n",
       "  </thead>\n",
       "  <tbody>\n",
       "    <tr>\n",
       "      <th>1542</th>\n",
       "      <td>2013-12-23</td>\n",
       "      <td>111.56</td>\n",
       "      <td>0.0</td>\n",
       "      <td>-0.304769</td>\n",
       "      <td>-0.376479</td>\n",
       "      <td>-0.555755</td>\n",
       "      <td>0.313733</td>\n",
       "      <td>0.681248</td>\n",
       "      <td>0.681248</td>\n",
       "      <td>-0.555755</td>\n",
       "      <td>0</td>\n",
       "    </tr>\n",
       "    <tr>\n",
       "      <th>1543</th>\n",
       "      <td>2013-12-20</td>\n",
       "      <td>111.77</td>\n",
       "      <td>4.0</td>\n",
       "      <td>0.187886</td>\n",
       "      <td>-0.116310</td>\n",
       "      <td>-0.187886</td>\n",
       "      <td>-0.366825</td>\n",
       "      <td>0.501029</td>\n",
       "      <td>0.501029</td>\n",
       "      <td>-0.366825</td>\n",
       "      <td>0</td>\n",
       "    </tr>\n",
       "    <tr>\n",
       "      <th>1544</th>\n",
       "      <td>2013-12-19</td>\n",
       "      <td>110.29</td>\n",
       "      <td>3.0</td>\n",
       "      <td>-1.341917</td>\n",
       "      <td>-1.151510</td>\n",
       "      <td>-1.459788</td>\n",
       "      <td>-1.532324</td>\n",
       "      <td>-1.713664</td>\n",
       "      <td>-1.151510</td>\n",
       "      <td>-1.713664</td>\n",
       "      <td>0</td>\n",
       "    </tr>\n",
       "    <tr>\n",
       "      <th>1545</th>\n",
       "      <td>2013-12-18</td>\n",
       "      <td>109.63</td>\n",
       "      <td>2.0</td>\n",
       "      <td>-0.602025</td>\n",
       "      <td>-1.952020</td>\n",
       "      <td>-1.760467</td>\n",
       "      <td>-2.070601</td>\n",
       "      <td>-2.143574</td>\n",
       "      <td>-0.602025</td>\n",
       "      <td>-2.143574</td>\n",
       "      <td>-1</td>\n",
       "    </tr>\n",
       "    <tr>\n",
       "      <th>1546</th>\n",
       "      <td>2013-12-17</td>\n",
       "      <td>108.44</td>\n",
       "      <td>1.0</td>\n",
       "      <td>-1.097381</td>\n",
       "      <td>-1.706013</td>\n",
       "      <td>-3.070823</td>\n",
       "      <td>-2.877167</td>\n",
       "      <td>-3.190705</td>\n",
       "      <td>-1.097381</td>\n",
       "      <td>-3.190705</td>\n",
       "      <td>-1</td>\n",
       "    </tr>\n",
       "  </tbody>\n",
       "</table>\n",
       "</div>"
      ],
      "text/plain": [
       "           Date   Price    D      %_p1      %_p2      %_p3      %_p4  \\\n",
       "1542 2013-12-23  111.56  0.0 -0.304769 -0.376479 -0.555755  0.313733   \n",
       "1543 2013-12-20  111.77  4.0  0.187886 -0.116310 -0.187886 -0.366825   \n",
       "1544 2013-12-19  110.29  3.0 -1.341917 -1.151510 -1.459788 -1.532324   \n",
       "1545 2013-12-18  109.63  2.0 -0.602025 -1.952020 -1.760467 -2.070601   \n",
       "1546 2013-12-17  108.44  1.0 -1.097381 -1.706013 -3.070823 -2.877167   \n",
       "\n",
       "          %_p5       Max       Min  y  \n",
       "1542  0.681248  0.681248 -0.555755  0  \n",
       "1543  0.501029  0.501029 -0.366825  0  \n",
       "1544 -1.713664 -1.151510 -1.713664  0  \n",
       "1545 -2.143574 -0.602025 -2.143574 -1  \n",
       "1546 -3.190705 -1.097381 -3.190705 -1  "
      ]
     },
     "execution_count": 30,
     "metadata": {},
     "output_type": "execute_result"
    }
   ],
   "source": [
    "df['y']=0\n",
    "df.loc[(df['Min'] <=-2), 'y'] = -1\n",
    "df.loc[(df['Max'] >=1 ), 'y'] = 1\n",
    "df.loc[(df['Max'] >=1 ) & (df['Min'] <=-2 ), 'y'] = 2\n",
    "df.head(5)"
   ]
  },
  {
   "cell_type": "code",
   "execution_count": 32,
   "metadata": {
    "scrolled": true
   },
   "outputs": [
    {
     "name": "stdout",
     "output_type": "stream",
     "text": [
      "Date       2012-04-24 00:00:00                                                                                                                                                                                                                                                                                                                                                                                                                                                                                                                                                                                                                                                                                                                                                   \n",
      "Title      Crude rises despite sluggish U.S. housing data Crude oil higher despite weaker than expected U.S. data Crude oil adds to gains after U.S. data supply report, Fed in focus Crude oil trades flat ahead of EU bond auctions, U.S. supply data                                                                                                                                                                                                                                                                                                                                                                                                                                                                                                                          \n",
      "Body        Crude oil futures rose in Asian trading on Wednesday as investors snapped up nicely priced positions on sentiment that while key U.S. housing and confidence indicators came in a little...  Crude oil futures traded higher during U.S. afternoon trade Tuesday, following the release of  weaker-than-expected U.S. housing and consumer confidence data.   On the New York...  Crude oil futures were higher during U.S. morning trade on Tuesday, adding to gains following the release of broadly weaker-than-expected U.S. economic data on housing and consumer...  Crude oil futures were largely unchanged during European morning trade on Tuesday, steadying a day after falling to a two-week low as markets looked ahead to a number of key euro zone...\n",
      "Summary    0                                                                                                                                                                                                                                                                                                                                                                                                                                                                                                                                                                                                                                                                                                                                                                     \n",
      "Name: 1, dtype: object\n",
      "Crude rises despite sluggish U.S. housing data Crude oil higher despite weaker than expected U.S. data Crude oil adds to gains after U.S. data supply report, Fed in focus Crude oil trades flat ahead of EU bond auctions, U.S. supply data Crude oil futures rose in Asian trading on Wednesday as investors snapped up nicely priced positions on sentiment that while key U.S. housing and confidence indicators came in a little...  Crude oil futures traded higher during U.S. afternoon trade Tuesday, following the release of  weaker-than-expected U.S. housing and consumer confidence data.   On the New York...  Crude oil futures were higher during U.S. morning trade on Tuesday, adding to gains following the release of broadly weaker-than-expected U.S. economic data on housing and consumer...  Crude oil futures were largely unchanged during European morning trade on Tuesday, steadying a day after falling to a two-week low as markets looked ahead to a number of key euro zone...\n"
     ]
    }
   ],
   "source": [
    "#create df_3 \n",
    "\n",
    "df3= df_2.set_index('Date').join(df.set_index('Date'))\n",
    "df3['Summary']=df3['Title']+df3['Body']\n",
    "df3 =df3.dropna()\n",
    "df3 = df3[['Summary','y']]\n",
    "X=df3.iloc[:,0]\n",
    "\n",
    "pd.set_option('display.max_colwidth', -1) \n",
    "print(df_2.iloc[1])\n",
    "\n",
    "print(X.iloc[1])\n",
    "pd.reset_option('display.max_colwidth')\n"
   ]
  },
  {
   "cell_type": "code",
   "execution_count": 33,
   "metadata": {},
   "outputs": [],
   "source": [
    "import numpy as np  \n",
    "import re  \n",
    "import nltk  \n",
    "from sklearn.datasets import load_files  \n",
    "from nltk.corpus import stopwords  "
   ]
  },
  {
   "cell_type": "code",
   "execution_count": 34,
   "metadata": {
    "scrolled": true
   },
   "outputs": [],
   "source": [
    "#lemmantizer\n",
    "documents = []\n",
    "\n",
    "from nltk.stem import WordNetLemmatizer\n",
    "\n",
    "stemmer = WordNetLemmatizer()\n",
    "\n",
    "for sen in range(0, len(X)):  \n",
    "    # Remove all the special characters\n",
    "    document = re.sub(r'\\W', ' ', str(X[sen]))\n",
    "\n",
    "    # remove all single characters\n",
    "    document = re.sub(r'\\s+[a-zA-Z]\\s+', ' ', document)\n",
    "\n",
    "    # Remove single characters from the start\n",
    "    document = re.sub(r'\\^[a-zA-Z]\\s+', ' ', document) \n",
    "\n",
    "    # Substituting multiple spaces with single space\n",
    "    document = re.sub(r'\\s+', ' ', document, flags=re.I)\n",
    "\n",
    "    # Removing prefixed 'b'\n",
    "    document = re.sub(r'^b\\s+', '', document)\n",
    "\n",
    "    # Converting to Lowercase\n",
    "    document = document.lower()\n",
    "\n",
    "    # Lemmatization\n",
    "    document = document.split()\n",
    "\n",
    "    document = [stemmer.lemmatize(word) for word in document]\n",
    "    document = ' '.join(document)\n",
    "\n",
    "    documents.append(document)"
   ]
  },
  {
   "cell_type": "code",
   "execution_count": 64,
   "metadata": {},
   "outputs": [
    {
     "data": {
      "text/plain": [
       "[array(['amid', 'asian', 'asset', 'austerity', 'bounce', 'bounced', 'came',\n",
       "        'concern', 'cut', 'day', 'december', 'drop', 'election', 'europe',\n",
       "        'european', 'exposure', 'fall', 'fell', 'greece', 'heavy',\n",
       "        'impact', 'investor', 'level', 'loss', 'low', 'lowest', 'measure',\n",
       "        'monday', 'morning', 'negative', 'political', 'post', 'pressure',\n",
       "        'remains', 'revealed', 'risk', 'riskier', 'selling', 'sharp',\n",
       "        'sharply', 'since', 'sold', 'though', 'trade', 'trading',\n",
       "        'tuesday', 'wa', 'wake', 'weekend'], dtype='<U13'),\n",
       " array(['amid', 'asian', 'asset', 'austerity', 'bottom', 'came', 'concern',\n",
       "        'continued', 'cut', 'day', 'debt', 'demand', 'drop', 'due',\n",
       "        'europe', 'european', 'exchange', 'exposure', 'extend', 'fishing',\n",
       "        'five', 'global', 'greece', 'greek', 'greenback', 'growth', 'held',\n",
       "        'investor', 'linked', 'loss', 'low', 'lower', 'measure',\n",
       "        'mercantile', 'month', 'morning', 'moved', 'near', 'new',\n",
       "        'overnight', 'political', 'pressure', 'renewed', 'riskier', 'rose',\n",
       "        'sold', 'strong', 'trade', 'trading', 'tuesday', 'uncertainty',\n",
       "        'wednesday', 'weigh', 'weighed', 'weighs', 'woe', 'worry', 'york'],\n",
       "       dtype='<U13'),\n",
       " array(['amid', 'asian', 'asset', 'bounced', 'came', 'coming', 'comment',\n",
       "        'concern', 'continued', 'continues', 'cut', 'day', 'december',\n",
       "        'economy', 'eu', 'european', 'exposure', 'fear', 'fell', 'focus',\n",
       "        'following', 'government', 'greece', 'growth', 'hit', 'investor',\n",
       "        'level', 'linked', 'loss', 'low', 'lower', 'lowest', 'mid',\n",
       "        'morning', 'new', 'ongoing', 'pressure', 'report', 'rise',\n",
       "        'rising', 'saudi', 'since', 'stockpile', 'supply', 'thursday',\n",
       "        'trade', 'traded', 'trading', 'trim', 'trimmed', 'wednesday',\n",
       "        'york'], dtype='<U13')]"
      ]
     },
     "execution_count": 64,
     "metadata": {},
     "output_type": "execute_result"
    }
   ],
   "source": [
    "#Vectorize\n",
    "\n",
    "from sklearn.feature_extraction.text import TfidfVectorizer  \n",
    "tfidfconverter = TfidfVectorizer(max_features=3000, min_df=5, max_df=0.7, stop_words=stopwords.words('english'))  \n",
    "X = tfidfconverter.fit_transform(documents).toarray()  \n",
    "Y = tfidfconverter.inverse_transform(X)\n",
    "Y[10:13]"
   ]
  },
  {
   "cell_type": "code",
   "execution_count": 36,
   "metadata": {
    "scrolled": false
   },
   "outputs": [
    {
     "data": {
      "text/plain": [
       "(array([[0.        , 0.        , 0.        , ..., 0.        , 0.        ,\n",
       "         0.        ],\n",
       "        [0.        , 0.        , 0.        , ..., 0.        , 0.05566236,\n",
       "         0.08588935],\n",
       "        [0.        , 0.        , 0.        , ..., 0.        , 0.07211682,\n",
       "         0.        ],\n",
       "        ...,\n",
       "        [0.        , 0.        , 0.        , ..., 0.        , 0.0532459 ,\n",
       "         0.        ],\n",
       "        [0.        , 0.        , 0.        , ..., 0.        , 0.        ,\n",
       "         0.        ],\n",
       "        [0.        , 0.        , 0.        , ..., 0.        , 0.0710243 ,\n",
       "         0.        ]]), Date\n",
       " 2012-04-23    0.0\n",
       " 2012-04-24    0.0\n",
       " 2012-04-25    0.0\n",
       " 2012-04-26    1.0\n",
       " 2012-04-27    1.0\n",
       " Name: y, dtype: float64)"
      ]
     },
     "execution_count": 36,
     "metadata": {},
     "output_type": "execute_result"
    }
   ],
   "source": [
    "y=df3.iloc[:,1]\n",
    "X, y.head(5)"
   ]
  },
  {
   "cell_type": "code",
   "execution_count": 37,
   "metadata": {},
   "outputs": [
    {
     "data": {
      "text/plain": [
       "(array([[0.        , 0.        , 0.        , ..., 0.        , 0.        ,\n",
       "         0.        ],\n",
       "        [0.        , 0.        , 0.        , ..., 0.        , 0.        ,\n",
       "         0.        ],\n",
       "        [0.        , 0.        , 0.        , ..., 0.        , 0.        ,\n",
       "         0.11416441],\n",
       "        ...,\n",
       "        [0.        , 0.        , 0.        , ..., 0.        , 0.        ,\n",
       "         0.        ],\n",
       "        [0.        , 0.        , 0.        , ..., 0.        , 0.        ,\n",
       "         0.        ],\n",
       "        [0.        , 0.        , 0.        , ..., 0.        , 0.        ,\n",
       "         0.        ]]), Date\n",
       " 2013-06-11   -1.0\n",
       " 2013-09-20    0.0\n",
       " 2013-09-23    0.0\n",
       " 2012-10-05   -1.0\n",
       " 2013-03-22   -1.0\n",
       " Name: y, dtype: float64)"
      ]
     },
     "execution_count": 37,
     "metadata": {},
     "output_type": "execute_result"
    }
   ],
   "source": [
    "from sklearn.model_selection import train_test_split  \n",
    "X_train, X_test, y_train, y_test = train_test_split(X, y, test_size=0.2, random_state=1)  \n",
    "X_test,y_test.head(5)"
   ]
  },
  {
   "cell_type": "code",
   "execution_count": 38,
   "metadata": {},
   "outputs": [],
   "source": [
    "from sklearn.preprocessing import StandardScaler  \n",
    "scaler = StandardScaler()  \n",
    "scaler.fit(X_train)\n",
    "\n",
    "X_train = scaler.transform(X_train)  \n",
    "X_test = scaler.transform(X_test) "
   ]
  },
  {
   "cell_type": "code",
   "execution_count": 59,
   "metadata": {},
   "outputs": [
    {
     "name": "stdout",
     "output_type": "stream",
     "text": [
      "Iteration 1, loss = 1.43195908\n",
      "Iteration 2, loss = 0.90211545\n",
      "Iteration 3, loss = 0.66495900\n",
      "Iteration 4, loss = 0.35651155\n",
      "Iteration 5, loss = 0.24719183\n",
      "Iteration 6, loss = 0.13979819\n",
      "Iteration 7, loss = 0.06237723\n",
      "Iteration 8, loss = 0.03590727\n",
      "Iteration 9, loss = 0.02226685\n",
      "Iteration 10, loss = 0.01131100\n",
      "Iteration 11, loss = 0.00492781\n",
      "Iteration 12, loss = 0.00253002\n",
      "Iteration 13, loss = 0.00153606\n",
      "Iteration 14, loss = 0.00110965\n",
      "Iteration 15, loss = 0.00091293\n",
      "Iteration 16, loss = 0.00080161\n",
      "Iteration 17, loss = 0.00072679\n",
      "Iteration 18, loss = 0.00068513\n",
      "Iteration 19, loss = 0.00064710\n",
      "Iteration 20, loss = 0.00062029\n",
      "Iteration 21, loss = 0.00059958\n",
      "Iteration 22, loss = 0.00058248\n",
      "Iteration 23, loss = 0.00056961\n",
      "Iteration 24, loss = 0.00055947\n",
      "Iteration 25, loss = 0.00055092\n",
      "Iteration 26, loss = 0.00054330\n",
      "Iteration 27, loss = 0.00053736\n",
      "Training loss did not improve more than tol=0.000100 for 10 consecutive epochs. Stopping.\n"
     ]
    },
    {
     "data": {
      "text/plain": [
       "MLPClassifier(activation='relu', alpha=0.0001, batch_size='auto', beta_1=0.9,\n",
       "       beta_2=0.999, early_stopping=False, epsilon=1e-08,\n",
       "       hidden_layer_sizes=(500, 500, 500), learning_rate='constant',\n",
       "       learning_rate_init=0.001, max_iter=1000, momentum=0.9,\n",
       "       n_iter_no_change=10, nesterovs_momentum=True, power_t=0.5,\n",
       "       random_state=None, shuffle=True, solver='adam', tol=0.0001,\n",
       "       validation_fraction=0.1, verbose=True, warm_start=False)"
      ]
     },
     "execution_count": 59,
     "metadata": {},
     "output_type": "execute_result"
    }
   ],
   "source": [
    " from sklearn.neural_network import MLPClassifier \n",
    "#try also - solver='lbfgs' \n",
    "mlp = MLPClassifier(hidden_layer_sizes=(500,500,500), max_iter=1000,verbose=True) \n",
    "mlp.fit(X_train, y_train) "
   ]
  },
  {
   "cell_type": "code",
   "execution_count": 60,
   "metadata": {},
   "outputs": [],
   "source": [
    "y_pred = mlp.predict(X_test)"
   ]
  },
  {
   "cell_type": "code",
   "execution_count": 61,
   "metadata": {
    "scrolled": true
   },
   "outputs": [
    {
     "name": "stdout",
     "output_type": "stream",
     "text": [
      "[[ 4 11 12  1]\n",
      " [ 2  7  6  0]\n",
      " [ 4 14 24  0]\n",
      " [ 0  0  2  0]]\n",
      "              precision    recall  f1-score   support\n",
      "\n",
      "        -1.0       0.40      0.14      0.21        28\n",
      "         0.0       0.22      0.47      0.30        15\n",
      "         1.0       0.55      0.57      0.56        42\n",
      "         2.0       0.00      0.00      0.00         2\n",
      "\n",
      "   micro avg       0.40      0.40      0.40        87\n",
      "   macro avg       0.29      0.30      0.27        87\n",
      "weighted avg       0.43      0.40      0.39        87\n",
      "\n",
      "0.40229885057471265\n"
     ]
    }
   ],
   "source": [
    "from sklearn.metrics import classification_report, confusion_matrix, accuracy_score\n",
    "\n",
    "print(confusion_matrix(y_test,y_pred))  \n",
    "print(classification_report(y_test,y_pred))  \n",
    "print(accuracy_score(y_test, y_pred)) \n"
   ]
  },
  {
   "cell_type": "code",
   "execution_count": null,
   "metadata": {},
   "outputs": [],
   "source": []
  }
 ],
 "metadata": {
  "kernelspec": {
   "display_name": "Python 3",
   "language": "python",
   "name": "python3"
  },
  "language_info": {
   "codemirror_mode": {
    "name": "ipython",
    "version": 3
   },
   "file_extension": ".py",
   "mimetype": "text/x-python",
   "name": "python",
   "nbconvert_exporter": "python",
   "pygments_lexer": "ipython3",
   "version": "3.7.3"
  }
 },
 "nbformat": 4,
 "nbformat_minor": 2
}
