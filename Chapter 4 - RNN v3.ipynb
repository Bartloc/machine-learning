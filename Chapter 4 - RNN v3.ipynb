{
 "cells": [
  {
   "cell_type": "code",
   "execution_count": 1,
   "metadata": {},
   "outputs": [],
   "source": [
    "import numpy as np\n",
    "import random as rnd\n",
    "import pandas as pd"
   ]
  },
  {
   "cell_type": "code",
   "execution_count": 2,
   "metadata": {
    "scrolled": true
   },
   "outputs": [],
   "source": [
    "DIR='AI\\\\data\\\\'\n",
    "file='conected_v6.csv'\n",
    "df = pd.read_csv(DIR+file,index_col=0)\n",
    "T=51\n",
    "D=4"
   ]
  },
  {
   "cell_type": "code",
   "execution_count": 3,
   "metadata": {},
   "outputs": [
    {
     "data": {
      "text/html": [
       "<div>\n",
       "<style scoped>\n",
       "    .dataframe tbody tr th:only-of-type {\n",
       "        vertical-align: middle;\n",
       "    }\n",
       "\n",
       "    .dataframe tbody tr th {\n",
       "        vertical-align: top;\n",
       "    }\n",
       "\n",
       "    .dataframe thead th {\n",
       "        text-align: right;\n",
       "    }\n",
       "</style>\n",
       "<table border=\"1\" class=\"dataframe\">\n",
       "  <thead>\n",
       "    <tr style=\"text-align: right;\">\n",
       "      <th></th>\n",
       "      <th>0</th>\n",
       "      <th>1</th>\n",
       "      <th>2</th>\n",
       "      <th>3</th>\n",
       "      <th>4</th>\n",
       "      <th>5</th>\n",
       "      <th>6</th>\n",
       "      <th>7</th>\n",
       "      <th>8</th>\n",
       "      <th>9</th>\n",
       "      <th>...</th>\n",
       "      <th>Y_1_1.0</th>\n",
       "      <th>Y_2_1.0</th>\n",
       "      <th>Y_3_1.0</th>\n",
       "      <th>Y_4_1.0</th>\n",
       "      <th>Y_5_1.0</th>\n",
       "      <th>Y_1_1.5</th>\n",
       "      <th>Y_2_1.5</th>\n",
       "      <th>Y_3_1.5</th>\n",
       "      <th>Y_4_1.5</th>\n",
       "      <th>Y_5_1.5</th>\n",
       "    </tr>\n",
       "  </thead>\n",
       "  <tbody>\n",
       "    <tr>\n",
       "      <th>0</th>\n",
       "      <td>-0.049035</td>\n",
       "      <td>-0.565848</td>\n",
       "      <td>0.736594</td>\n",
       "      <td>-1.071490</td>\n",
       "      <td>0.038483</td>\n",
       "      <td>-0.177512</td>\n",
       "      <td>0.094612</td>\n",
       "      <td>0.230351</td>\n",
       "      <td>0.164424</td>\n",
       "      <td>0.165772</td>\n",
       "      <td>...</td>\n",
       "      <td>1</td>\n",
       "      <td>1</td>\n",
       "      <td>1</td>\n",
       "      <td>1</td>\n",
       "      <td>1</td>\n",
       "      <td>1</td>\n",
       "      <td>1</td>\n",
       "      <td>1</td>\n",
       "      <td>1</td>\n",
       "      <td>1</td>\n",
       "    </tr>\n",
       "    <tr>\n",
       "      <th>1</th>\n",
       "      <td>0.039335</td>\n",
       "      <td>-0.580337</td>\n",
       "      <td>0.725564</td>\n",
       "      <td>-1.054353</td>\n",
       "      <td>-0.177136</td>\n",
       "      <td>0.095233</td>\n",
       "      <td>0.230416</td>\n",
       "      <td>0.164082</td>\n",
       "      <td>0.165030</td>\n",
       "      <td>0.107108</td>\n",
       "      <td>...</td>\n",
       "      <td>2</td>\n",
       "      <td>2</td>\n",
       "      <td>2</td>\n",
       "      <td>2</td>\n",
       "      <td>2</td>\n",
       "      <td>2</td>\n",
       "      <td>1</td>\n",
       "      <td>2</td>\n",
       "      <td>1</td>\n",
       "      <td>1</td>\n",
       "    </tr>\n",
       "    <tr>\n",
       "      <th>2</th>\n",
       "      <td>-0.176343</td>\n",
       "      <td>-0.245664</td>\n",
       "      <td>0.112186</td>\n",
       "      <td>-0.392810</td>\n",
       "      <td>0.095632</td>\n",
       "      <td>0.231046</td>\n",
       "      <td>0.164146</td>\n",
       "      <td>0.164687</td>\n",
       "      <td>0.106358</td>\n",
       "      <td>0.078392</td>\n",
       "      <td>...</td>\n",
       "      <td>1</td>\n",
       "      <td>1</td>\n",
       "      <td>1</td>\n",
       "      <td>1</td>\n",
       "      <td>1</td>\n",
       "      <td>1</td>\n",
       "      <td>1</td>\n",
       "      <td>1</td>\n",
       "      <td>1</td>\n",
       "      <td>1</td>\n",
       "    </tr>\n",
       "    <tr>\n",
       "      <th>3</th>\n",
       "      <td>0.096500</td>\n",
       "      <td>-0.232964</td>\n",
       "      <td>0.484342</td>\n",
       "      <td>-0.378075</td>\n",
       "      <td>0.231456</td>\n",
       "      <td>0.164772</td>\n",
       "      <td>0.164752</td>\n",
       "      <td>0.106017</td>\n",
       "      <td>0.077638</td>\n",
       "      <td>-0.044117</td>\n",
       "      <td>...</td>\n",
       "      <td>1</td>\n",
       "      <td>1</td>\n",
       "      <td>1</td>\n",
       "      <td>1</td>\n",
       "      <td>1</td>\n",
       "      <td>1</td>\n",
       "      <td>1</td>\n",
       "      <td>1</td>\n",
       "      <td>1</td>\n",
       "      <td>1</td>\n",
       "    </tr>\n",
       "    <tr>\n",
       "      <th>4</th>\n",
       "      <td>0.232361</td>\n",
       "      <td>-0.272170</td>\n",
       "      <td>0.828325</td>\n",
       "      <td>-0.454012</td>\n",
       "      <td>0.165177</td>\n",
       "      <td>0.165378</td>\n",
       "      <td>0.106081</td>\n",
       "      <td>0.077298</td>\n",
       "      <td>-0.044887</td>\n",
       "      <td>-0.420266</td>\n",
       "      <td>...</td>\n",
       "      <td>1</td>\n",
       "      <td>1</td>\n",
       "      <td>1</td>\n",
       "      <td>1</td>\n",
       "      <td>1</td>\n",
       "      <td>1</td>\n",
       "      <td>1</td>\n",
       "      <td>1</td>\n",
       "      <td>1</td>\n",
       "      <td>1</td>\n",
       "    </tr>\n",
       "    <tr>\n",
       "      <th>...</th>\n",
       "      <td>...</td>\n",
       "      <td>...</td>\n",
       "      <td>...</td>\n",
       "      <td>...</td>\n",
       "      <td>...</td>\n",
       "      <td>...</td>\n",
       "      <td>...</td>\n",
       "      <td>...</td>\n",
       "      <td>...</td>\n",
       "      <td>...</td>\n",
       "      <td>...</td>\n",
       "      <td>...</td>\n",
       "      <td>...</td>\n",
       "      <td>...</td>\n",
       "      <td>...</td>\n",
       "      <td>...</td>\n",
       "      <td>...</td>\n",
       "      <td>...</td>\n",
       "      <td>...</td>\n",
       "      <td>...</td>\n",
       "      <td>...</td>\n",
       "    </tr>\n",
       "    <tr>\n",
       "      <th>887</th>\n",
       "      <td>0.184166</td>\n",
       "      <td>1.962744</td>\n",
       "      <td>-0.021661</td>\n",
       "      <td>0.587204</td>\n",
       "      <td>0.731257</td>\n",
       "      <td>0.964081</td>\n",
       "      <td>1.041825</td>\n",
       "      <td>3.234800</td>\n",
       "      <td>1.908321</td>\n",
       "      <td>2.534894</td>\n",
       "      <td>...</td>\n",
       "      <td>1</td>\n",
       "      <td>1</td>\n",
       "      <td>2</td>\n",
       "      <td>2</td>\n",
       "      <td>2</td>\n",
       "      <td>1</td>\n",
       "      <td>1</td>\n",
       "      <td>2</td>\n",
       "      <td>2</td>\n",
       "      <td>1</td>\n",
       "    </tr>\n",
       "    <tr>\n",
       "      <th>888</th>\n",
       "      <td>0.735659</td>\n",
       "      <td>0.545087</td>\n",
       "      <td>0.702022</td>\n",
       "      <td>-0.384440</td>\n",
       "      <td>0.970953</td>\n",
       "      <td>1.044492</td>\n",
       "      <td>3.235707</td>\n",
       "      <td>1.908341</td>\n",
       "      <td>2.534946</td>\n",
       "      <td>1.188581</td>\n",
       "      <td>...</td>\n",
       "      <td>1</td>\n",
       "      <td>1</td>\n",
       "      <td>1</td>\n",
       "      <td>2</td>\n",
       "      <td>2</td>\n",
       "      <td>1</td>\n",
       "      <td>1</td>\n",
       "      <td>1</td>\n",
       "      <td>2</td>\n",
       "      <td>2</td>\n",
       "    </tr>\n",
       "    <tr>\n",
       "      <th>889</th>\n",
       "      <td>0.975711</td>\n",
       "      <td>-0.468227</td>\n",
       "      <td>0.813919</td>\n",
       "      <td>-1.084755</td>\n",
       "      <td>1.051636</td>\n",
       "      <td>3.239496</td>\n",
       "      <td>1.909412</td>\n",
       "      <td>2.534726</td>\n",
       "      <td>1.188518</td>\n",
       "      <td>0.487329</td>\n",
       "      <td>...</td>\n",
       "      <td>2</td>\n",
       "      <td>2</td>\n",
       "      <td>2</td>\n",
       "      <td>2</td>\n",
       "      <td>2</td>\n",
       "      <td>2</td>\n",
       "      <td>2</td>\n",
       "      <td>2</td>\n",
       "      <td>2</td>\n",
       "      <td>2</td>\n",
       "    </tr>\n",
       "    <tr>\n",
       "      <th>890</th>\n",
       "      <td>1.056514</td>\n",
       "      <td>-0.999973</td>\n",
       "      <td>0.973794</td>\n",
       "      <td>-1.424199</td>\n",
       "      <td>3.254083</td>\n",
       "      <td>1.912523</td>\n",
       "      <td>2.535719</td>\n",
       "      <td>1.188814</td>\n",
       "      <td>0.487206</td>\n",
       "      <td>-0.174885</td>\n",
       "      <td>...</td>\n",
       "      <td>2</td>\n",
       "      <td>2</td>\n",
       "      <td>2</td>\n",
       "      <td>2</td>\n",
       "      <td>2</td>\n",
       "      <td>1</td>\n",
       "      <td>2</td>\n",
       "      <td>2</td>\n",
       "      <td>2</td>\n",
       "      <td>2</td>\n",
       "    </tr>\n",
       "    <tr>\n",
       "      <th>891</th>\n",
       "      <td>3.262236</td>\n",
       "      <td>-0.875181</td>\n",
       "      <td>2.459207</td>\n",
       "      <td>-1.464391</td>\n",
       "      <td>1.922611</td>\n",
       "      <td>2.539150</td>\n",
       "      <td>1.189975</td>\n",
       "      <td>0.487771</td>\n",
       "      <td>-0.175064</td>\n",
       "      <td>-0.591665</td>\n",
       "      <td>...</td>\n",
       "      <td>1</td>\n",
       "      <td>2</td>\n",
       "      <td>2</td>\n",
       "      <td>2</td>\n",
       "      <td>2</td>\n",
       "      <td>1</td>\n",
       "      <td>1</td>\n",
       "      <td>2</td>\n",
       "      <td>2</td>\n",
       "      <td>2</td>\n",
       "    </tr>\n",
       "  </tbody>\n",
       "</table>\n",
       "<p>3562 rows × 224 columns</p>\n",
       "</div>"
      ],
      "text/plain": [
       "            0         1         2         3         4         5         6  \\\n",
       "0   -0.049035 -0.565848  0.736594 -1.071490  0.038483 -0.177512  0.094612   \n",
       "1    0.039335 -0.580337  0.725564 -1.054353 -0.177136  0.095233  0.230416   \n",
       "2   -0.176343 -0.245664  0.112186 -0.392810  0.095632  0.231046  0.164146   \n",
       "3    0.096500 -0.232964  0.484342 -0.378075  0.231456  0.164772  0.164752   \n",
       "4    0.232361 -0.272170  0.828325 -0.454012  0.165177  0.165378  0.106081   \n",
       "..        ...       ...       ...       ...       ...       ...       ...   \n",
       "887  0.184166  1.962744 -0.021661  0.587204  0.731257  0.964081  1.041825   \n",
       "888  0.735659  0.545087  0.702022 -0.384440  0.970953  1.044492  3.235707   \n",
       "889  0.975711 -0.468227  0.813919 -1.084755  1.051636  3.239496  1.909412   \n",
       "890  1.056514 -0.999973  0.973794 -1.424199  3.254083  1.912523  2.535719   \n",
       "891  3.262236 -0.875181  2.459207 -1.464391  1.922611  2.539150  1.189975   \n",
       "\n",
       "            7         8         9  ...  Y_1_1.0  Y_2_1.0  Y_3_1.0  Y_4_1.0  \\\n",
       "0    0.230351  0.164424  0.165772  ...        1        1        1        1   \n",
       "1    0.164082  0.165030  0.107108  ...        2        2        2        2   \n",
       "2    0.164687  0.106358  0.078392  ...        1        1        1        1   \n",
       "3    0.106017  0.077638 -0.044117  ...        1        1        1        1   \n",
       "4    0.077298 -0.044887 -0.420266  ...        1        1        1        1   \n",
       "..        ...       ...       ...  ...      ...      ...      ...      ...   \n",
       "887  3.234800  1.908321  2.534894  ...        1        1        2        2   \n",
       "888  1.908341  2.534946  1.188581  ...        1        1        1        2   \n",
       "889  2.534726  1.188518  0.487329  ...        2        2        2        2   \n",
       "890  1.188814  0.487206 -0.174885  ...        2        2        2        2   \n",
       "891  0.487771 -0.175064 -0.591665  ...        1        2        2        2   \n",
       "\n",
       "     Y_5_1.0  Y_1_1.5  Y_2_1.5  Y_3_1.5  Y_4_1.5  Y_5_1.5  \n",
       "0          1        1        1        1        1        1  \n",
       "1          2        2        1        2        1        1  \n",
       "2          1        1        1        1        1        1  \n",
       "3          1        1        1        1        1        1  \n",
       "4          1        1        1        1        1        1  \n",
       "..       ...      ...      ...      ...      ...      ...  \n",
       "887        2        1        1        2        2        1  \n",
       "888        2        1        1        1        2        2  \n",
       "889        2        2        2        2        2        2  \n",
       "890        2        1        2        2        2        2  \n",
       "891        2        1        1        2        2        2  \n",
       "\n",
       "[3562 rows x 224 columns]"
      ]
     },
     "execution_count": 3,
     "metadata": {},
     "output_type": "execute_result"
    }
   ],
   "source": [
    "df"
   ]
  },
  {
   "cell_type": "code",
   "execution_count": 4,
   "metadata": {},
   "outputs": [],
   "source": [
    "X=df.iloc[:,:204].to_numpy().reshape(-1,T,D)\n",
    "Y=df.iloc[:,207].to_numpy()"
   ]
  },
  {
   "cell_type": "code",
   "execution_count": 5,
   "metadata": {},
   "outputs": [
    {
     "data": {
      "text/plain": [
       "array([[[-0.04903535, -0.56584838,  0.73659357, -1.07149026],\n",
       "        [ 0.03848289, -0.17751165,  0.0946116 ,  0.23035054],\n",
       "        [ 0.16442432,  0.16577192,  0.1076259 ,  0.07936616],\n",
       "        ...,\n",
       "        [-1.27649181, -1.35737066, -1.27694393, -1.31416704],\n",
       "        [-1.33036572, -1.3254846 , -1.30126178, -1.38222027],\n",
       "        [-1.329992  , -1.25251078, -1.31982375, -1.35013734]],\n",
       "\n",
       "       [[ 0.03933508, -0.58033652,  0.72556423, -1.05435278],\n",
       "        [-0.17713559,  0.09523346,  0.23041573,  0.16408154],\n",
       "        [ 0.16503001,  0.10710791,  0.07891085, -0.04313238],\n",
       "        ...,\n",
       "        [-1.35429698, -1.2736824 , -1.31114647, -1.3272626 ],\n",
       "        [-1.3225355 , -1.29882967, -1.38012419, -1.32741154],\n",
       "        [-1.25039957, -1.31791947, -1.34803691, -1.33361377]],\n",
       "\n",
       "       [[-0.17634284, -0.24566446,  0.11218622, -0.39280953],\n",
       "        [ 0.09563226,  0.2310458 ,  0.16414622,  0.16468721],\n",
       "        [ 0.10635803,  0.07839185, -0.04359317, -0.41925187],\n",
       "        ...,\n",
       "        [-1.27065978, -1.30785861, -1.32423242, -1.31943906],\n",
       "        [-1.29590659, -1.37761743, -1.32536103, -1.2479004 ],\n",
       "        [-1.31575041, -1.34611109, -1.3315274 , -1.39626236]],\n",
       "\n",
       "       ...,\n",
       "\n",
       "       [[ 0.97571072, -0.46822673,  0.81391948, -1.08475456],\n",
       "        [ 1.05163607,  3.23949576,  1.90941214,  2.53472574],\n",
       "        [ 1.18851835,  0.48732856, -0.17438839, -0.59082839],\n",
       "        ...,\n",
       "        [-1.52929824, -1.63537041, -1.59167746, -1.61227715],\n",
       "        [-1.74010309, -1.77954997, -1.61288876, -1.75557888],\n",
       "        [-1.60480645, -1.47085353, -1.61158846, -1.69369867]],\n",
       "\n",
       "       [[ 1.05651399, -0.99997273,  0.97379395, -1.42419886],\n",
       "        [ 3.25408328,  1.91252311,  2.53571927,  1.18881443],\n",
       "        [ 0.48720588, -0.17488521, -0.59107502, -0.69005314],\n",
       "        ...,\n",
       "        [-1.63800201, -1.59463276, -1.61542899, -1.74239728],\n",
       "        [-1.78240555, -1.61476819, -1.75651591, -1.60713713],\n",
       "        [-1.47411526, -1.6139897 , -1.69434143, -1.4344845 ]],\n",
       "\n",
       "       [[ 3.26223575, -0.87518105,  2.45920651, -1.46439127],\n",
       "        [ 1.92261079,  2.53915049,  1.18997455,  0.48777085],\n",
       "        [-0.17506427, -0.59166465, -0.69030723, -0.46194234],\n",
       "        ...,\n",
       "        [-1.59722057, -1.61841419, -1.74572311, -1.78473847],\n",
       "        [-1.6174353 , -1.75850988, -1.60801841, -1.47631834],\n",
       "        [-1.61745168, -1.69681976, -1.43506903, -0.97311368]]])"
      ]
     },
     "execution_count": 5,
     "metadata": {},
     "output_type": "execute_result"
    }
   ],
   "source": [
    "X"
   ]
  },
  {
   "cell_type": "code",
   "execution_count": 45,
   "metadata": {},
   "outputs": [],
   "source": [
    "#X=np.expand_dims(X,-D)\n",
    "X_train=X[0:2500]\n",
    "X_test=X[2500:]\n",
    "Y_train=Y[0:2500]\n",
    "Y_test=Y[2500:]\n"
   ]
  },
  {
   "cell_type": "code",
   "execution_count": 46,
   "metadata": {},
   "outputs": [
    {
     "data": {
      "text/plain": [
       "array([1, 2, 2, ..., 2, 1, 1], dtype=int64)"
      ]
     },
     "execution_count": 46,
     "metadata": {},
     "output_type": "execute_result"
    }
   ],
   "source": [
    "Y_train"
   ]
  },
  {
   "cell_type": "code",
   "execution_count": 47,
   "metadata": {},
   "outputs": [],
   "source": [
    "import tensorflow as tf\n",
    "\n",
    "from tensorflow.keras.layers import Input,SimpleRNN,GRU,LSTM,Dense,Flatten,GlobalMaxPool1D\n",
    "from tensorflow.keras.models import Model\n",
    "from tensorflow.keras.optimizers import SGD,Adam"
   ]
  },
  {
   "cell_type": "code",
   "execution_count": 48,
   "metadata": {},
   "outputs": [],
   "source": [
    "import numpy as np\n",
    "import pandas as pd\n",
    "import matplotlib.pyplot as plt\n"
   ]
  },
  {
   "cell_type": "code",
   "execution_count": 49,
   "metadata": {},
   "outputs": [],
   "source": [
    "i = Input(shape=(T,D))\n",
    "#x=SimpleRNN(5)(i)\n",
    "x=LSTM(30,return_sequences=True)(i)\n",
    "x=GlobalMaxPool1D()(x)\n",
    "x=Dense(4,activation='softmax')(x)\n",
    "model=Model(i,x)\n",
    "model.compile(optimizer='adam',\n",
    "              loss='sparse_categorical_crossentropy',\n",
    "              metrics=['accuracy'])\n"
   ]
  },
  {
   "cell_type": "code",
   "execution_count": 50,
   "metadata": {},
   "outputs": [
    {
     "name": "stdout",
     "output_type": "stream",
     "text": [
      "Train on 2500 samples, validate on 1062 samples\n",
      "Epoch 1/3\n",
      "2500/2500 [==============================] - 7s 3ms/sample - loss: 1.2692 - accuracy: 0.3528 - val_loss: 1.1189 - val_accuracy: 0.4802\n",
      "Epoch 2/3\n",
      "2500/2500 [==============================] - 3s 1ms/sample - loss: 1.1308 - accuracy: 0.4256 - val_loss: 1.0891 - val_accuracy: 0.4802\n",
      "Epoch 3/3\n",
      "2500/2500 [==============================] - 3s 1ms/sample - loss: 1.1218 - accuracy: 0.4268 - val_loss: 1.0901 - val_accuracy: 0.4821\n"
     ]
    }
   ],
   "source": [
    "r = model.fit(\n",
    "    X_train,Y_train,\n",
    "    epochs=3,\n",
    "    validation_data=[X_test,Y_test]\n",
    ")"
   ]
  },
  {
   "cell_type": "code",
   "execution_count": 51,
   "metadata": {},
   "outputs": [
    {
     "data": {
      "text/plain": [
       "<matplotlib.legend.Legend at 0x15883fa7648>"
      ]
     },
     "execution_count": 51,
     "metadata": {},
     "output_type": "execute_result"
    },
    {
     "data": {
      "image/png": "[encoded data removed]",
      "text/plain": [
       "<Figure size 432x288 with 1 Axes>"
      ]
     },
     "metadata": {
      "needs_background": "light"
     },
     "output_type": "display_data"
    }
   ],
   "source": [
    "plt.plot(r.history['loss'],label='loss')\n",
    "plt.plot(r.history['val_loss'],label='val_loss')\n",
    "plt.legend()"
   ]
  },
  {
   "cell_type": "code",
   "execution_count": 52,
   "metadata": {},
   "outputs": [
    {
     "data": {
      "text/plain": [
       "<matplotlib.legend.Legend at 0x1588409f548>"
      ]
     },
     "execution_count": 52,
     "metadata": {},
     "output_type": "execute_result"
    },
    {
     "data": {
      "image/png": "[encoded data removed]",
      "text/plain": [
       "<Figure size 432x288 with 1 Axes>"
      ]
     },
     "metadata": {
      "needs_background": "light"
     },
     "output_type": "display_data"
    }
   ],
   "source": [
    "plt.plot(r.history['accuracy'],label='acc')\n",
    "plt.plot(r.history['val_accuracy'],label='val_acc')\n",
    "plt.legend()"
   ]
  },
  {
   "cell_type": "code",
   "execution_count": 53,
   "metadata": {},
   "outputs": [],
   "source": [
    "from sklearn.model_selection import train_test_split\n",
    "from sklearn.metrics import confusion_matrix\n",
    "\n",
    "import itertools\n",
    "\n",
    "\n",
    "def plot_confusion_matrix(cm,classes,\n",
    "                          normalize=False,\n",
    "                          title='Confusion Matrix',\n",
    "                          cmap=plt.cm.Blues):\n",
    "  if normalize:\n",
    "    cm=cm.astype('float')/cm.sum(axis=1)[:,np.newaxis]\n",
    "    print(\"Noramlized confusion matrix\")\n",
    "  else:\n",
    "    print(\"Confusion matrix without normalisation\")\n",
    "  print(cm) \n",
    "  plt.imshow(cm,interpolation='nearest',cmap=cmap)\n",
    "  plt.title(title)\n",
    "  plt.colorbar()\n",
    "  ticks_marks=np.arange(len(classes))\n",
    "  plt.xticks(ticks_marks,classes,rotation=45)\n",
    "  plt.yticks(ticks_marks,classes)\n",
    "\n",
    "  fmt='.2f' if normalize else 'd'\n",
    "  thresh = cm.max()/2\n",
    "  for i,j in itertools.product(range(cm.shape[0]),range(cm.shape[1])):\n",
    "    plt.text(j,i, format(cm[i,j],fmt),\n",
    "            horizontalalignment=\"center\",\n",
    "            color=\"white\" if cm[i,j] >thresh else \"black\")\n",
    "  plt.tight_layout()\n",
    "  plt.ylabel('True Label')\n",
    "  plt.xlabel('Predicted Label')\n",
    "  plt.show()"
   ]
  },
  {
   "cell_type": "code",
   "execution_count": 54,
   "metadata": {},
   "outputs": [
    {
     "name": "stdout",
     "output_type": "stream",
     "text": [
      "Confusion matrix without normalisation\n",
      "[[  0 224  10   0]\n",
      " [  0 483  25   0]\n",
      " [  0 279  29   0]\n",
      " [  0  10   2   0]]\n"
     ]
    },
    {
     "data": {
      "image/png": "[encoded data removed]",
      "text/plain": [
       "<Figure size 432x288 with 2 Axes>"
      ]
     },
     "metadata": {
      "needs_background": "light"
     },
     "output_type": "display_data"
    }
   ],
   "source": [
    "p_test=model.predict(X_test).argmax(axis=1)\n",
    "cm=confusion_matrix(Y_test,p_test)\n",
    "plot_confusion_matrix(cm,list(range(4)),normalize=False)"
   ]
  },
  {
   "cell_type": "code",
   "execution_count": 19,
   "metadata": {},
   "outputs": [
    {
     "data": {
      "text/plain": [
       "0.5953307392996109"
      ]
     },
     "execution_count": 19,
     "metadata": {},
     "output_type": "execute_result"
    }
   ],
   "source": [
    "459/(312+459)"
   ]
  },
  {
   "cell_type": "code",
   "execution_count": 31,
   "metadata": {},
   "outputs": [
    {
     "data": {
      "text/plain": [
       "array([0, 0, 1, ..., 2, 2, 2], dtype=int64)"
      ]
     },
     "execution_count": 31,
     "metadata": {},
     "output_type": "execute_result"
    }
   ],
   "source": [
    "Y_test"
   ]
  },
  {
   "cell_type": "code",
   "execution_count": 33,
   "metadata": {},
   "outputs": [
    {
     "data": {
      "text/plain": [
       "393"
      ]
     },
     "execution_count": 33,
     "metadata": {},
     "output_type": "execute_result"
    }
   ],
   "source": [
    "np.sum(Y_test==0)"
   ]
  },
  {
   "cell_type": "code",
   "execution_count": 55,
   "metadata": {},
   "outputs": [],
   "source": [
    "T=8\n",
    "D=2\n",
    "M=3"
   ]
  },
  {
   "cell_type": "code",
   "execution_count": 69,
   "metadata": {},
   "outputs": [
    {
     "data": {
      "text/plain": [
       "array([[[ 1.40754643e+00, -4.18324856e-01],\n",
       "        [-7.02830153e-01, -6.73405686e-01],\n",
       "        [ 1.71764038e+00, -1.14770225e+00],\n",
       "        [-2.20050699e-01, -4.20670198e-01],\n",
       "        [-5.31714055e-01, -8.94843420e-01],\n",
       "        [-1.56039821e-01, -2.95784596e-01],\n",
       "        [-2.77088464e-01, -1.84104834e-02],\n",
       "        [ 5.12931701e-04,  7.04426977e-01]]])"
      ]
     },
     "execution_count": 69,
     "metadata": {},
     "output_type": "execute_result"
    }
   ],
   "source": [
    "X=np.random.randn(1,T,D)\n",
    "X"
   ]
  },
  {
   "cell_type": "code",
   "execution_count": 83,
   "metadata": {},
   "outputs": [],
   "source": [
    "def lstm1():\n",
    "    input_=Input(shape=(T,D))\n",
    "    rnn= LSTM(M,return_state=True)\n",
    "    x=rnn(input_)\n",
    "    model=Model(inputs=input_,outputs=x)\n",
    "    o,h,c=model.predict(X)\n",
    "    print(\"o: \",o)\n",
    "    print(\"h: \",h)\n",
    "    print(\"c: \",c)"
   ]
  },
  {
   "cell_type": "code",
   "execution_count": 84,
   "metadata": {},
   "outputs": [],
   "source": [
    "def lstm2():\n",
    "    input_=Input(shape=(T,D))\n",
    "    rnn= LSTM(M,return_state=True,return_sequences=True)\n",
    "    x=rnn(input_)\n",
    "    model=Model(inputs=input_,outputs=x)\n",
    "    o,h,c=model.predict(X)\n",
    "    print(\"o: \",o)\n",
    "    print(\"h: \",h)\n",
    "    print(\"c: \",c)"
   ]
  },
  {
   "cell_type": "code",
   "execution_count": 85,
   "metadata": {},
   "outputs": [],
   "source": [
    "def gru1():\n",
    "    input_=Input(shape=(T,D))\n",
    "    rnn= GRU(M,return_state=True)\n",
    "    x=rnn(input_)\n",
    "    model=Model(inputs=input_,outputs=x)\n",
    "    o,h=model.predict(X)\n",
    "    print(\"o: \",o)\n",
    "    print(\"h: \",h)\n",
    "    "
   ]
  },
  {
   "cell_type": "code",
   "execution_count": 81,
   "metadata": {},
   "outputs": [],
   "source": [
    "def gru2():\n",
    "    input_=Input(shape=(T,D))\n",
    "    rnn= GRU(M,return_state=True,return_sequences=True)\n",
    "    x=rnn(input_)\n",
    "    model=Model(inputs=input_,outputs=x)\n",
    "    o,h=model.predict(X)\n",
    "    print(\"o: \",o)\n",
    "    print(\"h: \",h)\n",
    "   "
   ]
  },
  {
   "cell_type": "code",
   "execution_count": 82,
   "metadata": {},
   "outputs": [
    {
     "name": "stdout",
     "output_type": "stream",
     "text": [
      "o:  [[-0.01046858 -0.00236709  0.03869972 -0.03184954 -0.00456555 -0.01747812\n",
      "   0.01007709  0.01154477 -0.03051326 -0.03772925  0.00293597  0.02225043\n",
      "  -0.00471041  0.00949872  0.01348086 -0.00272635  0.0307532   0.00170247\n",
      "   0.01850362 -0.01841523 -0.0076476   0.02754544 -0.02429512  0.00858908\n",
      "   0.00620388  0.0258147   0.02864497  0.01750099 -0.00045392  0.02095184\n",
      "   0.00580269 -0.00034873 -0.02048089  0.02833989 -0.04497034 -0.00601255\n",
      "  -0.00904575  0.01932745 -0.00679392  0.00478228 -0.04525786 -0.00530615\n",
      "   0.01319039 -0.00579331  0.00500469 -0.01578118 -0.03171137  0.02706317\n",
      "   0.01452853 -0.02175341]]\n",
      "h:  [[-0.01046858 -0.00236709  0.03869972 -0.03184954 -0.00456555 -0.01747812\n",
      "   0.01007709  0.01154477 -0.03051326 -0.03772925  0.00293597  0.02225043\n",
      "  -0.00471041  0.00949872  0.01348086 -0.00272635  0.0307532   0.00170247\n",
      "   0.01850362 -0.01841523 -0.0076476   0.02754544 -0.02429512  0.00858908\n",
      "   0.00620388  0.0258147   0.02864497  0.01750099 -0.00045392  0.02095184\n",
      "   0.00580269 -0.00034873 -0.02048089  0.02833989 -0.04497034 -0.00601255\n",
      "  -0.00904575  0.01932745 -0.00679392  0.00478228 -0.04525786 -0.00530615\n",
      "   0.01319039 -0.00579331  0.00500469 -0.01578118 -0.03171137  0.02706317\n",
      "   0.01452853 -0.02175341]]\n",
      "c:  [[-0.02026179 -0.00496119  0.07950912 -0.06707812 -0.00895101 -0.03532658\n",
      "   0.02087748  0.02288226 -0.06002422 -0.08099144  0.00606733  0.04405601\n",
      "  -0.00933454  0.01856841  0.02539066 -0.00554374  0.06423049  0.00335924\n",
      "   0.03895289 -0.03768906 -0.01450512  0.05829306 -0.04950258  0.01785905\n",
      "   0.01183866  0.05342991  0.06172025  0.03354091 -0.00088543  0.04516544\n",
      "   0.01157476 -0.00075117 -0.04048462  0.05616002 -0.08510859 -0.01221123\n",
      "  -0.01875133  0.03779269 -0.01317949  0.00990501 -0.09275904 -0.01083856\n",
      "   0.02748222 -0.01219187  0.01012725 -0.03289216 -0.06179229  0.0549857\n",
      "   0.02852393 -0.04209507]]\n"
     ]
    }
   ],
   "source": [
    "lstm1()"
   ]
  },
  {
   "cell_type": "code",
   "execution_count": 75,
   "metadata": {},
   "outputs": [
    {
     "name": "stdout",
     "output_type": "stream",
     "text": [
      "o:  [[[ 0.01818732  0.16536829  0.04932903]\n",
      "  [-0.10267079  0.07040832 -0.04963439]\n",
      "  [-0.18937162  0.23162453  0.01886279]\n",
      "  [-0.18584934  0.14120731 -0.05717639]\n",
      "  [-0.2570666   0.11736282 -0.14771894]\n",
      "  [-0.22490998  0.11439785 -0.1607892 ]\n",
      "  [-0.18082997  0.04027674 -0.1761276 ]\n",
      "  [-0.05887245 -0.08377749 -0.1374134 ]]]\n",
      "h:  [[-0.05887245 -0.08377749 -0.1374134 ]]\n",
      "c:  [[-0.12303069 -0.1575231  -0.27607322]]\n"
     ]
    }
   ],
   "source": [
    "lstm2()"
   ]
  },
  {
   "cell_type": "code",
   "execution_count": 76,
   "metadata": {},
   "outputs": [
    {
     "name": "stdout",
     "output_type": "stream",
     "text": [
      "o:  [[0.08945833 0.16522127 0.2827808 ]]\n",
      "h:  [[0.08945833 0.16522127 0.2827808 ]]\n"
     ]
    }
   ],
   "source": [
    "gru1()"
   ]
  },
  {
   "cell_type": "code",
   "execution_count": 77,
   "metadata": {},
   "outputs": [
    {
     "name": "stdout",
     "output_type": "stream",
     "text": [
      "o:  [[[ 0.01845346 -0.35792798 -0.48624668]\n",
      "  [-0.12593797 -0.22195771 -0.00429471]\n",
      "  [-0.1022834  -0.5869286  -0.5437558 ]\n",
      "  [-0.16233616 -0.36883515 -0.2039573 ]\n",
      "  [-0.17064014 -0.33997577  0.10242363]\n",
      "  [-0.09517461 -0.22627288  0.13775668]\n",
      "  [-0.03471153 -0.06108828  0.18005027]\n",
      "  [ 0.04500476  0.14780349  0.06747033]]]\n",
      "h:  [[0.04500476 0.14780349 0.06747033]]\n"
     ]
    }
   ],
   "source": [
    "gru2()"
   ]
  },
  {
   "cell_type": "code",
   "execution_count": 94,
   "metadata": {},
   "outputs": [
    {
     "name": "stdout",
     "output_type": "stream",
     "text": [
      "o:  [[[ 0.03046946 -0.18311667 -0.03992933 -0.36037806 -0.31156415\n",
      "   -0.11523542]\n",
      "  [ 0.09259506 -0.12218439  0.07187682 -0.4125602  -0.13861655\n",
      "   -0.2962683 ]\n",
      "  [ 0.14538357 -0.31050473  0.09380618 -0.36417904 -0.35387772\n",
      "   -0.11414115]\n",
      "  [ 0.19861007 -0.18831411  0.10475244 -0.13258967 -0.01034367\n",
      "   -0.17408162]\n",
      "  [ 0.21645781 -0.13863665  0.15310976 -0.09597902 -0.01887728\n",
      "   -0.16297467]\n",
      "  [ 0.24474005 -0.08220866  0.19634528  0.03689302  0.00861771\n",
      "   -0.01504823]\n",
      "  [ 0.22448765  0.00617996  0.17707781  0.08281825  0.03175213\n",
      "    0.05727482]\n",
      "  [ 0.06609493  0.1541369   0.05724141  0.06698998  0.03683484\n",
      "    0.10002844]]]\n",
      "o,shape:  (1, 8, 6)\n",
      "h1:  [[0.06609493 0.1541369  0.05724141]]\n",
      "c1:  [[0.11058262 0.30351946 0.09971693]]\n",
      "h2:  [[-0.36037806 -0.31156415 -0.11523542]]\n",
      "c2:  [[-1.186191   -0.5356083  -0.32851112]]\n"
     ]
    }
   ],
   "source": [
    "from tensorflow.keras.layers import Bidirectional\n",
    "\n",
    "input_=Input(shape=(T,D))\n",
    "rnn= Bidirectional(LSTM(M,return_state=True,return_sequences=True))\n",
    "x=rnn(input_)\n",
    "model=Model(inputs=input_,outputs=x)\n",
    "o,h1,c1,h2,c2=model.predict(X)\n",
    "print(\"o: \",o)\n",
    "print(\"o,shape: \",o.shape)\n",
    "print(\"h1: \",h1)\n",
    "print(\"c1: \",c1)\n",
    "print(\"h2: \",h2)\n",
    "print(\"c2: \",c2)"
   ]
  },
  {
   "cell_type": "code",
   "execution_count": null,
   "metadata": {},
   "outputs": [],
   "source": []
  }
 ],
 "metadata": {
  "kernelspec": {
   "display_name": "Python 3",
   "language": "python",
   "name": "python3"
  },
  "language_info": {
   "codemirror_mode": {
    "name": "ipython",
    "version": 3
   },
   "file_extension": ".py",
   "mimetype": "text/x-python",
   "name": "python",
   "nbconvert_exporter": "python",
   "pygments_lexer": "ipython3",
   "version": "3.7.5"
  }
 },
 "nbformat": 4,
 "nbformat_minor": 2
}
