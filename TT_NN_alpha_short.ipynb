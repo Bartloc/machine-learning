{
 "cells": [
  {
   "cell_type": "code",
   "execution_count": 1,
   "metadata": {
    "scrolled": true
   },
   "outputs": [],
   "source": [
    "import pandas as pd\n",
    "\n",
    "tic='nasdaq'\n",
    "\n",
    "# Location of dataset\n",
    "#file = \"C:\\\\Users\\\\KocurLocur\\\\Desktop\\\\jupyter\\\\TT_dax_data_new.txt\"\n",
    "file = \"http://bpk.nazwa.pl/111/test.php?tic=\"+tic\n",
    "TT_days=100"
   ]
  },
  {
   "cell_type": "code",
   "execution_count": 2,
   "metadata": {
    "scrolled": true
   },
   "outputs": [],
   "source": [
    "# Assign colum names to the dataset\n",
    "names = ['Date', 'Price', 'Vol', 'T1','T2','T3','T4','T5','T6','T7','T8','T9','T10','T11']\n",
    "# Read dataset to pandas dataframe\n",
    "df = pd.read_csv(file, names=names) \n",
    "#Check dayWeek\n",
    "df['Date']=pd.to_datetime(df['Date'])\n",
    "df['D']=df['Date'].dt.dayofweek\n",
    "df.iloc[:,2:15]=df.iloc[:,2:15].astype(float)"
   ]
  },
  {
   "cell_type": "code",
   "execution_count": 3,
   "metadata": {},
   "outputs": [],
   "source": [
    "#count percentage volume from day before\n",
    "df['Vol']=df['Vol'].apply(pd.to_numeric, errors='coerce')\n",
    "\n",
    "if (tic=='gold' or tic=='brent'):\n",
    "    df['%_v1']=0.0\n",
    "else:\n",
    "    df['%_v1']=100*(1-df['Vol'].shift(-1)/df['Vol'])\n",
    "    df['%_v1']=df['%_v1'].apply(pd.to_numeric, errors='coerce')"
   ]
  },
  {
   "cell_type": "code",
   "execution_count": 4,
   "metadata": {},
   "outputs": [],
   "source": [
    "#shift values\n",
    "for y in range(1,TT_days+1):\n",
    "    for x in range (1,12):\n",
    "        df['T'+str(x)+'_'+str(y)]=df['T'+str(x)].shift(-y) "
   ]
  },
  {
   "cell_type": "code",
   "execution_count": 5,
   "metadata": {
    "scrolled": true
   },
   "outputs": [
    {
     "data": {
      "text/html": [
       "<div>\n",
       "<style scoped>\n",
       "    .dataframe tbody tr th:only-of-type {\n",
       "        vertical-align: middle;\n",
       "    }\n",
       "\n",
       "    .dataframe tbody tr th {\n",
       "        vertical-align: top;\n",
       "    }\n",
       "\n",
       "    .dataframe thead th {\n",
       "        text-align: right;\n",
       "    }\n",
       "</style>\n",
       "<table border=\"1\" class=\"dataframe\">\n",
       "  <thead>\n",
       "    <tr style=\"text-align: right;\">\n",
       "      <th></th>\n",
       "      <th>Date</th>\n",
       "      <th>Price</th>\n",
       "      <th>Vol</th>\n",
       "      <th>T1</th>\n",
       "      <th>T2</th>\n",
       "      <th>T3</th>\n",
       "      <th>T4</th>\n",
       "      <th>T5</th>\n",
       "      <th>T6</th>\n",
       "      <th>T7</th>\n",
       "      <th>...</th>\n",
       "      <th>T7_100</th>\n",
       "      <th>T8_100</th>\n",
       "      <th>T9_100</th>\n",
       "      <th>T10_100</th>\n",
       "      <th>T11_100</th>\n",
       "      <th>%_p1</th>\n",
       "      <th>%_p2</th>\n",
       "      <th>%_p3</th>\n",
       "      <th>%_p4</th>\n",
       "      <th>%_p5</th>\n",
       "    </tr>\n",
       "  </thead>\n",
       "  <tbody>\n",
       "    <tr>\n",
       "      <th>0</th>\n",
       "      <td>2019-06-11</td>\n",
       "      <td>7513.85</td>\n",
       "      <td>162.19</td>\n",
       "      <td>2.0</td>\n",
       "      <td>2.0</td>\n",
       "      <td>2.0</td>\n",
       "      <td>2.0</td>\n",
       "      <td>1.0</td>\n",
       "      <td>1.0</td>\n",
       "      <td>1.0</td>\n",
       "      <td>...</td>\n",
       "      <td>3.0</td>\n",
       "      <td>3.0</td>\n",
       "      <td>3.0</td>\n",
       "      <td>3.0</td>\n",
       "      <td>3.0</td>\n",
       "      <td>NaN</td>\n",
       "      <td>NaN</td>\n",
       "      <td>NaN</td>\n",
       "      <td>NaN</td>\n",
       "      <td>NaN</td>\n",
       "    </tr>\n",
       "    <tr>\n",
       "      <th>1</th>\n",
       "      <td>2019-06-10</td>\n",
       "      <td>7501.93</td>\n",
       "      <td>176.90</td>\n",
       "      <td>2.0</td>\n",
       "      <td>2.0</td>\n",
       "      <td>2.0</td>\n",
       "      <td>2.0</td>\n",
       "      <td>1.0</td>\n",
       "      <td>1.0</td>\n",
       "      <td>1.0</td>\n",
       "      <td>...</td>\n",
       "      <td>3.0</td>\n",
       "      <td>3.0</td>\n",
       "      <td>3.0</td>\n",
       "      <td>3.0</td>\n",
       "      <td>3.0</td>\n",
       "      <td>-0.158892</td>\n",
       "      <td>NaN</td>\n",
       "      <td>NaN</td>\n",
       "      <td>NaN</td>\n",
       "      <td>NaN</td>\n",
       "    </tr>\n",
       "    <tr>\n",
       "      <th>2</th>\n",
       "      <td>2019-06-07</td>\n",
       "      <td>7417.29</td>\n",
       "      <td>176.53</td>\n",
       "      <td>2.0</td>\n",
       "      <td>2.0</td>\n",
       "      <td>2.0</td>\n",
       "      <td>2.0</td>\n",
       "      <td>1.0</td>\n",
       "      <td>1.0</td>\n",
       "      <td>1.0</td>\n",
       "      <td>...</td>\n",
       "      <td>2.0</td>\n",
       "      <td>2.0</td>\n",
       "      <td>2.0</td>\n",
       "      <td>2.0</td>\n",
       "      <td>2.0</td>\n",
       "      <td>-1.141118</td>\n",
       "      <td>-1.301823</td>\n",
       "      <td>NaN</td>\n",
       "      <td>NaN</td>\n",
       "      <td>NaN</td>\n",
       "    </tr>\n",
       "    <tr>\n",
       "      <th>3</th>\n",
       "      <td>2019-06-06</td>\n",
       "      <td>7275.93</td>\n",
       "      <td>172.72</td>\n",
       "      <td>2.0</td>\n",
       "      <td>2.0</td>\n",
       "      <td>2.0</td>\n",
       "      <td>2.0</td>\n",
       "      <td>1.0</td>\n",
       "      <td>1.0</td>\n",
       "      <td>1.0</td>\n",
       "      <td>...</td>\n",
       "      <td>1.0</td>\n",
       "      <td>1.0</td>\n",
       "      <td>2.0</td>\n",
       "      <td>2.0</td>\n",
       "      <td>2.0</td>\n",
       "      <td>-1.942844</td>\n",
       "      <td>-3.106132</td>\n",
       "      <td>-3.269960</td>\n",
       "      <td>NaN</td>\n",
       "      <td>NaN</td>\n",
       "    </tr>\n",
       "    <tr>\n",
       "      <th>4</th>\n",
       "      <td>2019-06-05</td>\n",
       "      <td>7220.90</td>\n",
       "      <td>181.76</td>\n",
       "      <td>2.0</td>\n",
       "      <td>2.0</td>\n",
       "      <td>2.0</td>\n",
       "      <td>2.0</td>\n",
       "      <td>1.0</td>\n",
       "      <td>-2.0</td>\n",
       "      <td>-2.0</td>\n",
       "      <td>...</td>\n",
       "      <td>1.0</td>\n",
       "      <td>1.0</td>\n",
       "      <td>1.0</td>\n",
       "      <td>1.0</td>\n",
       "      <td>1.0</td>\n",
       "      <td>-0.762093</td>\n",
       "      <td>-2.719744</td>\n",
       "      <td>-3.891897</td>\n",
       "      <td>-4.056974</td>\n",
       "      <td>NaN</td>\n",
       "    </tr>\n",
       "  </tbody>\n",
       "</table>\n",
       "<p>5 rows × 1121 columns</p>\n",
       "</div>"
      ],
      "text/plain": [
       "        Date    Price     Vol   T1   T2   T3   T4   T5   T6   T7  ...  T7_100  \\\n",
       "0 2019-06-11  7513.85  162.19  2.0  2.0  2.0  2.0  1.0  1.0  1.0  ...     3.0   \n",
       "1 2019-06-10  7501.93  176.90  2.0  2.0  2.0  2.0  1.0  1.0  1.0  ...     3.0   \n",
       "2 2019-06-07  7417.29  176.53  2.0  2.0  2.0  2.0  1.0  1.0  1.0  ...     2.0   \n",
       "3 2019-06-06  7275.93  172.72  2.0  2.0  2.0  2.0  1.0  1.0  1.0  ...     1.0   \n",
       "4 2019-06-05  7220.90  181.76  2.0  2.0  2.0  2.0  1.0 -2.0 -2.0  ...     1.0   \n",
       "\n",
       "   T8_100  T9_100  T10_100  T11_100      %_p1      %_p2      %_p3      %_p4  \\\n",
       "0     3.0     3.0      3.0      3.0       NaN       NaN       NaN       NaN   \n",
       "1     3.0     3.0      3.0      3.0 -0.158892       NaN       NaN       NaN   \n",
       "2     2.0     2.0      2.0      2.0 -1.141118 -1.301823       NaN       NaN   \n",
       "3     1.0     2.0      2.0      2.0 -1.942844 -3.106132 -3.269960       NaN   \n",
       "4     1.0     1.0      1.0      1.0 -0.762093 -2.719744 -3.891897 -4.056974   \n",
       "\n",
       "   %_p5  \n",
       "0   NaN  \n",
       "1   NaN  \n",
       "2   NaN  \n",
       "3   NaN  \n",
       "4   NaN  \n",
       "\n",
       "[5 rows x 1121 columns]"
      ]
     },
     "execution_count": 5,
     "metadata": {},
     "output_type": "execute_result"
    }
   ],
   "source": [
    "for y in range(1,6):\n",
    "    df['%_p'+str(y)]=100*(1-df['Price'].shift(y)/df['Price'])\n",
    "df.head(5)"
   ]
  },
  {
   "cell_type": "code",
   "execution_count": 6,
   "metadata": {},
   "outputs": [],
   "source": [
    "import numpy as np\n",
    "df['Max']=df[[\"%_p1\", \"%_p2\",\"%_p3\",\"%_p4\",\"%_p5\"]].max(axis=1)\n",
    "df['Min']=df[[\"%_p1\", \"%_p2\",\"%_p3\",\"%_p4\",\"%_p5\"]].min(axis=1)\n",
    "df=df.replace([np.inf, -np.inf], np.nan)\n",
    "df=df.dropna()"
   ]
  },
  {
   "cell_type": "code",
   "execution_count": 7,
   "metadata": {
    "scrolled": true
   },
   "outputs": [
    {
     "data": {
      "text/html": [
       "<div>\n",
       "<style scoped>\n",
       "    .dataframe tbody tr th:only-of-type {\n",
       "        vertical-align: middle;\n",
       "    }\n",
       "\n",
       "    .dataframe tbody tr th {\n",
       "        vertical-align: top;\n",
       "    }\n",
       "\n",
       "    .dataframe thead th {\n",
       "        text-align: right;\n",
       "    }\n",
       "</style>\n",
       "<table border=\"1\" class=\"dataframe\">\n",
       "  <thead>\n",
       "    <tr style=\"text-align: right;\">\n",
       "      <th></th>\n",
       "      <th>Date</th>\n",
       "      <th>Price</th>\n",
       "      <th>Vol</th>\n",
       "      <th>T1</th>\n",
       "      <th>T2</th>\n",
       "      <th>T3</th>\n",
       "      <th>T4</th>\n",
       "      <th>T5</th>\n",
       "      <th>T6</th>\n",
       "      <th>T7</th>\n",
       "      <th>...</th>\n",
       "      <th>T10_100</th>\n",
       "      <th>T11_100</th>\n",
       "      <th>%_p1</th>\n",
       "      <th>%_p2</th>\n",
       "      <th>%_p3</th>\n",
       "      <th>%_p4</th>\n",
       "      <th>%_p5</th>\n",
       "      <th>Max</th>\n",
       "      <th>Min</th>\n",
       "      <th>y</th>\n",
       "    </tr>\n",
       "  </thead>\n",
       "  <tbody>\n",
       "    <tr>\n",
       "      <th>5</th>\n",
       "      <td>2019-06-04</td>\n",
       "      <td>7166.75</td>\n",
       "      <td>217.16</td>\n",
       "      <td>2.0</td>\n",
       "      <td>2.0</td>\n",
       "      <td>2.0</td>\n",
       "      <td>2.0</td>\n",
       "      <td>1.0</td>\n",
       "      <td>-2.0</td>\n",
       "      <td>-2.0</td>\n",
       "      <td>...</td>\n",
       "      <td>1.0</td>\n",
       "      <td>1.0</td>\n",
       "      <td>-0.755573</td>\n",
       "      <td>-1.523424</td>\n",
       "      <td>-3.495866</td>\n",
       "      <td>-4.676876</td>\n",
       "      <td>-4.843199</td>\n",
       "      <td>-0.755573</td>\n",
       "      <td>-4.843199</td>\n",
       "      <td>1</td>\n",
       "    </tr>\n",
       "    <tr>\n",
       "      <th>6</th>\n",
       "      <td>2019-06-03</td>\n",
       "      <td>6978.02</td>\n",
       "      <td>245.97</td>\n",
       "      <td>2.0</td>\n",
       "      <td>2.0</td>\n",
       "      <td>2.0</td>\n",
       "      <td>2.0</td>\n",
       "      <td>-3.0</td>\n",
       "      <td>-3.0</td>\n",
       "      <td>-3.0</td>\n",
       "      <td>...</td>\n",
       "      <td>1.0</td>\n",
       "      <td>1.0</td>\n",
       "      <td>-2.704635</td>\n",
       "      <td>-3.480644</td>\n",
       "      <td>-4.269263</td>\n",
       "      <td>-6.295052</td>\n",
       "      <td>-7.508004</td>\n",
       "      <td>-2.704635</td>\n",
       "      <td>-7.508004</td>\n",
       "      <td>1</td>\n",
       "    </tr>\n",
       "    <tr>\n",
       "      <th>7</th>\n",
       "      <td>2019-05-31</td>\n",
       "      <td>7127.96</td>\n",
       "      <td>183.95</td>\n",
       "      <td>1.0</td>\n",
       "      <td>2.0</td>\n",
       "      <td>2.0</td>\n",
       "      <td>2.0</td>\n",
       "      <td>-2.0</td>\n",
       "      <td>-3.0</td>\n",
       "      <td>-3.0</td>\n",
       "      <td>...</td>\n",
       "      <td>-2.0</td>\n",
       "      <td>-2.0</td>\n",
       "      <td>2.103547</td>\n",
       "      <td>-0.544195</td>\n",
       "      <td>-1.303879</td>\n",
       "      <td>-2.075910</td>\n",
       "      <td>-4.059086</td>\n",
       "      <td>2.103547</td>\n",
       "      <td>-4.059086</td>\n",
       "      <td>2</td>\n",
       "    </tr>\n",
       "    <tr>\n",
       "      <th>8</th>\n",
       "      <td>2019-05-30</td>\n",
       "      <td>7245.40</td>\n",
       "      <td>135.81</td>\n",
       "      <td>1.0</td>\n",
       "      <td>2.0</td>\n",
       "      <td>2.0</td>\n",
       "      <td>2.0</td>\n",
       "      <td>-2.0</td>\n",
       "      <td>-2.0</td>\n",
       "      <td>-2.0</td>\n",
       "      <td>...</td>\n",
       "      <td>-2.0</td>\n",
       "      <td>-2.0</td>\n",
       "      <td>1.620890</td>\n",
       "      <td>3.690341</td>\n",
       "      <td>1.085516</td>\n",
       "      <td>0.338146</td>\n",
       "      <td>-0.421371</td>\n",
       "      <td>3.690341</td>\n",
       "      <td>-0.421371</td>\n",
       "      <td>-1</td>\n",
       "    </tr>\n",
       "    <tr>\n",
       "      <th>9</th>\n",
       "      <td>2019-05-29</td>\n",
       "      <td>7216.86</td>\n",
       "      <td>195.44</td>\n",
       "      <td>1.0</td>\n",
       "      <td>2.0</td>\n",
       "      <td>2.0</td>\n",
       "      <td>2.0</td>\n",
       "      <td>-2.0</td>\n",
       "      <td>-3.0</td>\n",
       "      <td>-3.0</td>\n",
       "      <td>...</td>\n",
       "      <td>-2.0</td>\n",
       "      <td>-2.0</td>\n",
       "      <td>-0.395463</td>\n",
       "      <td>1.231838</td>\n",
       "      <td>3.309473</td>\n",
       "      <td>0.694346</td>\n",
       "      <td>-0.055980</td>\n",
       "      <td>3.309473</td>\n",
       "      <td>-0.395463</td>\n",
       "      <td>-1</td>\n",
       "    </tr>\n",
       "  </tbody>\n",
       "</table>\n",
       "<p>5 rows × 1124 columns</p>\n",
       "</div>"
      ],
      "text/plain": [
       "        Date    Price     Vol   T1   T2   T3   T4   T5   T6   T7  ...  \\\n",
       "5 2019-06-04  7166.75  217.16  2.0  2.0  2.0  2.0  1.0 -2.0 -2.0  ...   \n",
       "6 2019-06-03  6978.02  245.97  2.0  2.0  2.0  2.0 -3.0 -3.0 -3.0  ...   \n",
       "7 2019-05-31  7127.96  183.95  1.0  2.0  2.0  2.0 -2.0 -3.0 -3.0  ...   \n",
       "8 2019-05-30  7245.40  135.81  1.0  2.0  2.0  2.0 -2.0 -2.0 -2.0  ...   \n",
       "9 2019-05-29  7216.86  195.44  1.0  2.0  2.0  2.0 -2.0 -3.0 -3.0  ...   \n",
       "\n",
       "   T10_100  T11_100      %_p1      %_p2      %_p3      %_p4      %_p5  \\\n",
       "5      1.0      1.0 -0.755573 -1.523424 -3.495866 -4.676876 -4.843199   \n",
       "6      1.0      1.0 -2.704635 -3.480644 -4.269263 -6.295052 -7.508004   \n",
       "7     -2.0     -2.0  2.103547 -0.544195 -1.303879 -2.075910 -4.059086   \n",
       "8     -2.0     -2.0  1.620890  3.690341  1.085516  0.338146 -0.421371   \n",
       "9     -2.0     -2.0 -0.395463  1.231838  3.309473  0.694346 -0.055980   \n",
       "\n",
       "        Max       Min  y  \n",
       "5 -0.755573 -4.843199  1  \n",
       "6 -2.704635 -7.508004  1  \n",
       "7  2.103547 -4.059086  2  \n",
       "8  3.690341 -0.421371 -1  \n",
       "9  3.309473 -0.395463 -1  \n",
       "\n",
       "[5 rows x 1124 columns]"
      ]
     },
     "execution_count": 7,
     "metadata": {},
     "output_type": "execute_result"
    }
   ],
   "source": [
    "df['y']=0\n",
    "df.loc[(df['Min'] <=-1), 'y'] = 1\n",
    "df.loc[(df['Max'] >=2 ), 'y'] = -1\n",
    "df.loc[(df['Max'] >=2 ) & (df['Min'] <=-1 ), 'y'] = 2\n",
    "df.head(5)"
   ]
  },
  {
   "cell_type": "code",
   "execution_count": 8,
   "metadata": {
    "scrolled": true
   },
   "outputs": [
    {
     "data": {
      "text/html": [
       "<div>\n",
       "<style scoped>\n",
       "    .dataframe tbody tr th:only-of-type {\n",
       "        vertical-align: middle;\n",
       "    }\n",
       "\n",
       "    .dataframe tbody tr th {\n",
       "        vertical-align: top;\n",
       "    }\n",
       "\n",
       "    .dataframe thead th {\n",
       "        text-align: right;\n",
       "    }\n",
       "</style>\n",
       "<table border=\"1\" class=\"dataframe\">\n",
       "  <thead>\n",
       "    <tr style=\"text-align: right;\">\n",
       "      <th></th>\n",
       "      <th>T1</th>\n",
       "      <th>T2</th>\n",
       "      <th>T3</th>\n",
       "      <th>T4</th>\n",
       "      <th>T5</th>\n",
       "      <th>T6</th>\n",
       "      <th>T7</th>\n",
       "      <th>T8</th>\n",
       "      <th>T9</th>\n",
       "      <th>T10</th>\n",
       "      <th>...</th>\n",
       "      <th>T2_100</th>\n",
       "      <th>T3_100</th>\n",
       "      <th>T4_100</th>\n",
       "      <th>T5_100</th>\n",
       "      <th>T6_100</th>\n",
       "      <th>T7_100</th>\n",
       "      <th>T8_100</th>\n",
       "      <th>T9_100</th>\n",
       "      <th>T10_100</th>\n",
       "      <th>T11_100</th>\n",
       "    </tr>\n",
       "  </thead>\n",
       "  <tbody>\n",
       "    <tr>\n",
       "      <th>5</th>\n",
       "      <td>2.0</td>\n",
       "      <td>2.0</td>\n",
       "      <td>2.0</td>\n",
       "      <td>2.0</td>\n",
       "      <td>1.0</td>\n",
       "      <td>-2.0</td>\n",
       "      <td>-2.0</td>\n",
       "      <td>-2.0</td>\n",
       "      <td>-2.0</td>\n",
       "      <td>-2.0</td>\n",
       "      <td>...</td>\n",
       "      <td>1.0</td>\n",
       "      <td>1.0</td>\n",
       "      <td>3.0</td>\n",
       "      <td>3.0</td>\n",
       "      <td>1.0</td>\n",
       "      <td>1.0</td>\n",
       "      <td>1.0</td>\n",
       "      <td>1.0</td>\n",
       "      <td>1.0</td>\n",
       "      <td>1.0</td>\n",
       "    </tr>\n",
       "    <tr>\n",
       "      <th>6</th>\n",
       "      <td>2.0</td>\n",
       "      <td>2.0</td>\n",
       "      <td>2.0</td>\n",
       "      <td>2.0</td>\n",
       "      <td>-3.0</td>\n",
       "      <td>-3.0</td>\n",
       "      <td>-3.0</td>\n",
       "      <td>-3.0</td>\n",
       "      <td>-3.0</td>\n",
       "      <td>-3.0</td>\n",
       "      <td>...</td>\n",
       "      <td>1.0</td>\n",
       "      <td>1.0</td>\n",
       "      <td>3.0</td>\n",
       "      <td>3.0</td>\n",
       "      <td>1.0</td>\n",
       "      <td>1.0</td>\n",
       "      <td>1.0</td>\n",
       "      <td>1.0</td>\n",
       "      <td>1.0</td>\n",
       "      <td>1.0</td>\n",
       "    </tr>\n",
       "    <tr>\n",
       "      <th>7</th>\n",
       "      <td>1.0</td>\n",
       "      <td>2.0</td>\n",
       "      <td>2.0</td>\n",
       "      <td>2.0</td>\n",
       "      <td>-2.0</td>\n",
       "      <td>-3.0</td>\n",
       "      <td>-3.0</td>\n",
       "      <td>-3.0</td>\n",
       "      <td>-3.0</td>\n",
       "      <td>-3.0</td>\n",
       "      <td>...</td>\n",
       "      <td>1.0</td>\n",
       "      <td>1.0</td>\n",
       "      <td>3.0</td>\n",
       "      <td>3.0</td>\n",
       "      <td>-2.0</td>\n",
       "      <td>-2.0</td>\n",
       "      <td>-2.0</td>\n",
       "      <td>-2.0</td>\n",
       "      <td>-2.0</td>\n",
       "      <td>-2.0</td>\n",
       "    </tr>\n",
       "    <tr>\n",
       "      <th>8</th>\n",
       "      <td>1.0</td>\n",
       "      <td>2.0</td>\n",
       "      <td>2.0</td>\n",
       "      <td>2.0</td>\n",
       "      <td>-2.0</td>\n",
       "      <td>-2.0</td>\n",
       "      <td>-2.0</td>\n",
       "      <td>-2.0</td>\n",
       "      <td>-2.0</td>\n",
       "      <td>-2.0</td>\n",
       "      <td>...</td>\n",
       "      <td>1.0</td>\n",
       "      <td>1.0</td>\n",
       "      <td>3.0</td>\n",
       "      <td>3.0</td>\n",
       "      <td>-2.0</td>\n",
       "      <td>-2.0</td>\n",
       "      <td>-2.0</td>\n",
       "      <td>-2.0</td>\n",
       "      <td>-2.0</td>\n",
       "      <td>-2.0</td>\n",
       "    </tr>\n",
       "    <tr>\n",
       "      <th>9</th>\n",
       "      <td>1.0</td>\n",
       "      <td>2.0</td>\n",
       "      <td>2.0</td>\n",
       "      <td>2.0</td>\n",
       "      <td>-2.0</td>\n",
       "      <td>-3.0</td>\n",
       "      <td>-3.0</td>\n",
       "      <td>-3.0</td>\n",
       "      <td>-3.0</td>\n",
       "      <td>-3.0</td>\n",
       "      <td>...</td>\n",
       "      <td>1.0</td>\n",
       "      <td>1.0</td>\n",
       "      <td>2.0</td>\n",
       "      <td>2.0</td>\n",
       "      <td>-2.0</td>\n",
       "      <td>-2.0</td>\n",
       "      <td>-2.0</td>\n",
       "      <td>-2.0</td>\n",
       "      <td>-2.0</td>\n",
       "      <td>-2.0</td>\n",
       "    </tr>\n",
       "  </tbody>\n",
       "</table>\n",
       "<p>5 rows × 1113 columns</p>\n",
       "</div>"
      ],
      "text/plain": [
       "    T1   T2   T3   T4   T5   T6   T7   T8   T9  T10  ...  T2_100  T3_100  \\\n",
       "5  2.0  2.0  2.0  2.0  1.0 -2.0 -2.0 -2.0 -2.0 -2.0  ...     1.0     1.0   \n",
       "6  2.0  2.0  2.0  2.0 -3.0 -3.0 -3.0 -3.0 -3.0 -3.0  ...     1.0     1.0   \n",
       "7  1.0  2.0  2.0  2.0 -2.0 -3.0 -3.0 -3.0 -3.0 -3.0  ...     1.0     1.0   \n",
       "8  1.0  2.0  2.0  2.0 -2.0 -2.0 -2.0 -2.0 -2.0 -2.0  ...     1.0     1.0   \n",
       "9  1.0  2.0  2.0  2.0 -2.0 -3.0 -3.0 -3.0 -3.0 -3.0  ...     1.0     1.0   \n",
       "\n",
       "   T4_100  T5_100  T6_100  T7_100  T8_100  T9_100  T10_100  T11_100  \n",
       "5     3.0     3.0     1.0     1.0     1.0     1.0      1.0      1.0  \n",
       "6     3.0     3.0     1.0     1.0     1.0     1.0      1.0      1.0  \n",
       "7     3.0     3.0    -2.0    -2.0    -2.0    -2.0     -2.0     -2.0  \n",
       "8     3.0     3.0    -2.0    -2.0    -2.0    -2.0     -2.0     -2.0  \n",
       "9     2.0     2.0    -2.0    -2.0    -2.0    -2.0     -2.0     -2.0  \n",
       "\n",
       "[5 rows x 1113 columns]"
      ]
     },
     "execution_count": 8,
     "metadata": {},
     "output_type": "execute_result"
    }
   ],
   "source": [
    "X = df.iloc[:, 3:(16+11*TT_days)]\n",
    "y=df.iloc[:,-1]\n",
    "X.head(5)"
   ]
  },
  {
   "cell_type": "code",
   "execution_count": 9,
   "metadata": {},
   "outputs": [
    {
     "data": {
      "text/plain": [
       "644427"
      ]
     },
     "execution_count": 9,
     "metadata": {},
     "output_type": "execute_result"
    }
   ],
   "source": [
    "from sklearn.model_selection import train_test_split  \n",
    "X_train, X_test, y_train, y_test = train_test_split(X, y, test_size = 0.20) \n",
    "X_train , y_train\n",
    "X_test.size\n",
    "#y_test.value_counts()\n",
    "#y_test.values.reshape(-1),y_test\n"
   ]
  },
  {
   "cell_type": "code",
   "execution_count": 10,
   "metadata": {
    "scrolled": true
   },
   "outputs": [],
   "source": [
    "from sklearn.preprocessing import StandardScaler  \n",
    "scaler = StandardScaler()  \n",
    "scaler.fit(X_train)\n",
    "\n",
    "X_train = scaler.transform(X_train)  \n",
    "X_test = scaler.transform(X_test) "
   ]
  },
  {
   "cell_type": "code",
   "execution_count": 11,
   "metadata": {},
   "outputs": [
    {
     "name": "stdout",
     "output_type": "stream",
     "text": [
      "Iteration 1, loss = 1.25875388\n",
      "Iteration 2, loss = 0.84646906\n",
      "Iteration 3, loss = 0.63405359\n",
      "Iteration 4, loss = 0.44086405\n",
      "Iteration 5, loss = 0.29309261\n",
      "Iteration 6, loss = 0.21156367\n",
      "Iteration 7, loss = 0.16397363\n",
      "Iteration 8, loss = 0.14014502\n",
      "Iteration 9, loss = 0.13793509\n",
      "Iteration 10, loss = 0.11126235\n",
      "Iteration 11, loss = 0.08460587\n",
      "Iteration 12, loss = 0.06473236\n",
      "Iteration 13, loss = 0.08460161\n",
      "Iteration 14, loss = 0.08724828\n",
      "Iteration 15, loss = 0.09584682\n",
      "Iteration 16, loss = 0.06450366\n",
      "Iteration 17, loss = 0.05896267\n",
      "Iteration 18, loss = 0.03316921\n",
      "Iteration 19, loss = 0.02947576\n",
      "Iteration 20, loss = 0.02956000\n",
      "Iteration 21, loss = 0.02857982\n",
      "Iteration 22, loss = 0.02833963\n",
      "Iteration 23, loss = 0.02727407\n",
      "Iteration 24, loss = 0.03206874\n",
      "Iteration 25, loss = 0.01844860\n",
      "Iteration 26, loss = 0.01680682\n",
      "Iteration 27, loss = 0.00757290\n",
      "Iteration 28, loss = 0.00527711\n",
      "Iteration 29, loss = 0.01018479\n",
      "Iteration 30, loss = 0.01918974\n",
      "Iteration 31, loss = 0.02274926\n",
      "Iteration 32, loss = 0.02797847\n",
      "Iteration 33, loss = 0.03047682\n",
      "Iteration 34, loss = 0.02971411\n",
      "Iteration 35, loss = 0.01820577\n",
      "Iteration 36, loss = 0.03102936\n",
      "Iteration 37, loss = 0.05170775\n",
      "Iteration 38, loss = 0.02394156\n",
      "Iteration 39, loss = 0.01706702\n",
      "Training loss did not improve more than tol=0.000100 for 10 consecutive epochs. Stopping.\n"
     ]
    },
    {
     "data": {
      "text/plain": [
       "MLPClassifier(activation='relu', alpha=0.0001, batch_size='auto', beta_1=0.9,\n",
       "       beta_2=0.999, early_stopping=False, epsilon=1e-08,\n",
       "       hidden_layer_sizes=(500, 500, 500), learning_rate='constant',\n",
       "       learning_rate_init=0.001, max_iter=1000, momentum=0.9,\n",
       "       n_iter_no_change=10, nesterovs_momentum=True, power_t=0.5,\n",
       "       random_state=None, shuffle=True, solver='adam', tol=0.0001,\n",
       "       validation_fraction=0.1, verbose=True, warm_start=False)"
      ]
     },
     "execution_count": 11,
     "metadata": {},
     "output_type": "execute_result"
    }
   ],
   "source": [
    "from sklearn.neural_network import MLPClassifier \n",
    "mlp = MLPClassifier(hidden_layer_sizes=(500,500,500), max_iter=1000,verbose=True)  \n",
    "mlp.fit(X_train, y_train.values.reshape(-1))  \n",
    "#mlp.fit(X_train, y_train)\n"
   ]
  },
  {
   "cell_type": "code",
   "execution_count": 12,
   "metadata": {
    "scrolled": false
   },
   "outputs": [],
   "source": [
    "predictions = mlp.predict(X_test) "
   ]
  },
  {
   "cell_type": "code",
   "execution_count": 302,
   "metadata": {},
   "outputs": [
    {
     "name": "stdout",
     "output_type": "stream",
     "text": [
      "[[ 33  16  10   5]\n",
      " [ 10 151  23   0]\n",
      " [  1  46 113   1]\n",
      " [  3   0   4   3]]\n",
      "              precision    recall  f1-score   support\n",
      "\n",
      "          -1       0.70      0.52      0.59        64\n",
      "           0       0.71      0.82      0.76       184\n",
      "           1       0.75      0.70      0.73       161\n",
      "           2       0.33      0.30      0.32        10\n",
      "\n",
      "   micro avg       0.72      0.72      0.72       419\n",
      "   macro avg       0.62      0.58      0.60       419\n",
      "weighted avg       0.72      0.72      0.71       419\n",
      "\n"
     ]
    }
   ],
   "source": [
    "from sklearn.metrics import classification_report, confusion_matrix\n",
    "print(confusion_matrix(y_test,predictions))\n",
    "print(classification_report(y_test,predictions))\n",
    "a,b,c,d,=confusion_matrix(y_test,predictions)"
   ]
  },
  {
   "cell_type": "code",
   "execution_count": 303,
   "metadata": {
    "scrolled": false
   },
   "outputs": [
    {
     "data": {
      "text/plain": [
       "(1.2128, 0.890625)"
      ]
     },
     "execution_count": 303,
     "metadata": {},
     "output_type": "execute_result"
    }
   ],
   "source": [
    "prec=round((2*a[0]-b[0]*0.5-c[0]-d[0])/(a[0]+b[0]+c[0]+d[0]),4)\n",
    "\n",
    "prec,(2*a[0]-b[0]*0.5-c[0]-d[0])/sum(a)\n"
   ]
  },
  {
   "cell_type": "code",
   "execution_count": 304,
   "metadata": {},
   "outputs": [],
   "source": [
    "import datetime\n",
    "now = datetime.datetime.now()\n",
    "filename='_'.join((tic,now.strftime('%Y%m%d'),str(a[0]),str(b[0]),str(c[0]),str(int(prec*1000))))"
   ]
  },
  {
   "cell_type": "code",
   "execution_count": 305,
   "metadata": {},
   "outputs": [
    {
     "data": {
      "text/plain": [
       "['dji_20190601_33_10_1_1212_short_scaler.joblib']"
      ]
     },
     "execution_count": 305,
     "metadata": {},
     "output_type": "execute_result"
    }
   ],
   "source": [
    "from joblib import dump,load\n",
    "dump(mlp,filename+'_short_mlp.joblib')\n",
    "dump(scaler,filename+'_short_scaler.joblib')"
   ]
  },
  {
   "cell_type": "code",
   "execution_count": 218,
   "metadata": {
    "scrolled": false
   },
   "outputs": [
    {
     "name": "stderr",
     "output_type": "stream",
     "text": [
      "[Parallel(n_jobs=1)]: Using backend SequentialBackend with 1 concurrent workers.\n",
      "[Parallel(n_jobs=1)]: Done 1000 out of 1000 | elapsed:   20.6s finished\n",
      "[Parallel(n_jobs=1)]: Using backend SequentialBackend with 1 concurrent workers.\n"
     ]
    },
    {
     "name": "stdout",
     "output_type": "stream",
     "text": [
      "[[ 26  19  20   0]\n",
      " [  5 152  31   0]\n",
      " [  4  29 121   0]\n",
      " [  3   0   9   0]]\n",
      "              precision    recall  f1-score   support\n",
      "\n",
      "          -1       0.68      0.40      0.50        65\n",
      "           0       0.76      0.81      0.78       188\n",
      "           1       0.67      0.79      0.72       154\n",
      "           2       0.00      0.00      0.00        12\n",
      "\n",
      "   micro avg       0.71      0.71      0.71       419\n",
      "   macro avg       0.53      0.50      0.50       419\n",
      "weighted avg       0.69      0.71      0.70       419\n",
      "\n"
     ]
    },
    {
     "name": "stderr",
     "output_type": "stream",
     "text": [
      "[Parallel(n_jobs=1)]: Done 1000 out of 1000 | elapsed:    0.3s finished\n",
      "c:\\users\\kocurlocur\\appdata\\local\\programs\\python\\python37-32\\lib\\site-packages\\sklearn\\metrics\\classification.py:1143: UndefinedMetricWarning: Precision and F-score are ill-defined and being set to 0.0 in labels with no predicted samples.\n",
      "  'precision', 'predicted', average, warn_for)\n"
     ]
    }
   ],
   "source": [
    "from sklearn import tree\n",
    "from sklearn.ensemble import RandomForestClassifier\n",
    "\n",
    "X_train, X_test, y_train, y_test = train_test_split(X, y, test_size=0.2, random_state=1)\n",
    "#clf = tree.DecisionTreeClassifier(criterion='gini')\n",
    "clf= RandomForestClassifier(n_estimators=1000, random_state=0,verbose=1) \n",
    "\n",
    "# Train Decision Tree Classifer\n",
    "clf = clf.fit(X_train,y_train.values.reshape(-1))\n",
    "\n",
    "\n",
    "#Predict the response for test dataset\n",
    "y_pred = clf.predict(X_test)\n",
    "print(confusion_matrix(y_test,y_pred))\n",
    "print(classification_report(y_test,y_pred))\n",
    "a,b,c,d,=confusion_matrix(y_test,y_pred)\n"
   ]
  },
  {
   "cell_type": "code",
   "execution_count": 219,
   "metadata": {},
   "outputs": [
    {
     "data": {
      "text/plain": [
       "(1.1184, 0.6538461538461539)"
      ]
     },
     "execution_count": 219,
     "metadata": {},
     "output_type": "execute_result"
    }
   ],
   "source": [
    "prec=round((2*a[0]-b[0]*0.5-c[0]-d[0])/(a[0]+b[0]+c[0]+d[0]),4)\n",
    "\n",
    "prec,(2*a[0]-b[0]*0.5-c[0]-d[0])/sum(a)"
   ]
  },
  {
   "cell_type": "code",
   "execution_count": 220,
   "metadata": {},
   "outputs": [
    {
     "data": {
      "text/plain": [
       "['dji_short_forest.joblib']"
      ]
     },
     "execution_count": 220,
     "metadata": {},
     "output_type": "execute_result"
    }
   ],
   "source": [
    "dump(clf,tic+'_short_forest.joblib')"
   ]
  },
  {
   "cell_type": "code",
   "execution_count": 221,
   "metadata": {
    "scrolled": true
   },
   "outputs": [],
   "source": [
    "#import graphviz \n",
    "#dot_data = tree.export_graphviz(clf, out_file=None,class_names=['-1','0','1','2']) \n",
    "#graph = graphviz.Source(dot_data) \n",
    "#graph.render(tic) "
   ]
  },
  {
   "cell_type": "code",
   "execution_count": 222,
   "metadata": {
    "scrolled": false
   },
   "outputs": [
    {
     "data": {
      "text/plain": [
       "'\\nfrom sklearn.externals.six import StringIO  \\nfrom IPython.display import Image  \\nfrom sklearn.tree import export_graphviz\\nimport pydotplus\\ndot_data = StringIO()\\nexport_graphviz(clf, out_file=dot_data,  \\n                filled=True, rounded=True,\\n                special_characters=True)\\ngraph = pydotplus.graph_from_dot_data(dot_data.getvalue())  \\nImage(graph.create_png())\\n'"
      ]
     },
     "execution_count": 222,
     "metadata": {},
     "output_type": "execute_result"
    }
   ],
   "source": [
    "'''\n",
    "from sklearn.externals.six import StringIO  \n",
    "from IPython.display import Image  \n",
    "from sklearn.tree import export_graphviz\n",
    "import pydotplus\n",
    "dot_data = StringIO()\n",
    "export_graphviz(clf, out_file=dot_data,  \n",
    "                filled=True, rounded=True,\n",
    "                special_characters=True)\n",
    "graph = pydotplus.graph_from_dot_data(dot_data.getvalue())  \n",
    "Image(graph.create_png())\n",
    "'''"
   ]
  },
  {
   "cell_type": "code",
   "execution_count": null,
   "metadata": {},
   "outputs": [],
   "source": []
  }
 ],
 "metadata": {
  "kernelspec": {
   "display_name": "Python 3",
   "language": "python",
   "name": "python3"
  },
  "language_info": {
   "codemirror_mode": {
    "name": "ipython",
    "version": 3
   },
   "file_extension": ".py",
   "mimetype": "text/x-python",
   "name": "python",
   "nbconvert_exporter": "python",
   "pygments_lexer": "ipython3",
   "version": "3.7.5"
  }
 },
 "nbformat": 4,
 "nbformat_minor": 2
}
